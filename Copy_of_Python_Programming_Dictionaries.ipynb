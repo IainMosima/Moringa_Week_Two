{
  "nbformat": 4,
  "nbformat_minor": 0,
  "metadata": {
    "colab": {
      "name": "Copy of Python Programming: Dictionaries",
      "provenance": [],
      "collapsed_sections": [
        "ZSQ6Uyb98jUU"
      ],
      "toc_visible": true
    },
    "kernelspec": {
      "name": "python3",
      "display_name": "Python 3"
    }
  },
  "cells": [
    {
      "cell_type": "markdown",
      "metadata": {
        "id": "eOm53BqKoYpl"
      },
      "source": [
        "<font color=\"green\">*To start working on this notebook, or any other notebook that we will use in this course, we will need to save our own copy of it. We can do this by clicking File > Save a Copy in Drive. We will then be able to make edits to our own copy of this notebook.*</font>\n",
        "\n",
        "---\n",
        "\n"
      ]
    },
    {
      "cell_type": "markdown",
      "metadata": {
        "id": "w2gnEI4V253l"
      },
      "source": [
        "# Python Programming: Dictionaries"
      ]
    },
    {
      "cell_type": "markdown",
      "metadata": {
        "id": "aEqAjTGi3E3b"
      },
      "source": [
        "## 1.0 Overview\n"
      ]
    },
    {
      "cell_type": "markdown",
      "metadata": {
        "id": "nJhH3J6y3dBD"
      },
      "source": [
        "A dictionary is a collection of key-value pairs, which are unordered, changeable and indexed. Curly brackets are used when writing a dictionary."
      ]
    },
    {
      "cell_type": "markdown",
      "metadata": {
        "id": "a90lkqj_3IZr"
      },
      "source": [
        "## 1.1 Creating a Dictionary"
      ]
    },
    {
      "cell_type": "code",
      "metadata": {
        "id": "8XQMBtIU7EoL",
        "colab": {
          "base_uri": "https://localhost:8080/"
        },
        "outputId": "4dc9e10f-322e-4176-f4b1-af1836eee90a"
      },
      "source": [
        "# Example 1\n",
        "# We can create a dictionary by placing a sequence of elements within curly braces, \n",
        "# separated by commas as show in the following example.\n",
        "# Let's create a dictionary my_new_friend\n",
        "# \n",
        "my_new_friend = {\n",
        "    'name':'Femi', \n",
        "    'age': 24\n",
        "}\n",
        "\n",
        "# print \n",
        "print(my_new_friend)"
      ],
      "execution_count": null,
      "outputs": [
        {
          "output_type": "stream",
          "text": [
            "{'name': 'Femi', 'age': 24}\n"
          ],
          "name": "stdout"
        }
      ]
    },
    {
      "cell_type": "code",
      "metadata": {
        "id": "dg_8-2YO7EE3",
        "colab": {
          "base_uri": "https://localhost:8080/"
        },
        "outputId": "3143d433-7e15-4961-e07c-f4fa9e3fa1be"
      },
      "source": [
        "# Example 2\n",
        "# Let's create another dictionary car with keys; brand, model and year\n",
        "# \n",
        "car =\t{\n",
        "  'brand': 'Toyota',\n",
        "  'model': 'Prado',\n",
        "  'year': 2007\n",
        "}\n",
        "\n",
        "# Then display it to see what the dictionary contains\n",
        "print(car)"
      ],
      "execution_count": null,
      "outputs": [
        {
          "output_type": "stream",
          "text": [
            "{'brand': 'Toyota', 'model': 'Prado', 'year': 2007}\n"
          ],
          "name": "stdout"
        }
      ]
    },
    {
      "cell_type": "code",
      "metadata": {
        "id": "KiVcQaXH7D0R",
        "colab": {
          "base_uri": "https://localhost:8080/"
        },
        "outputId": "42be1fe0-25fa-4177-95ac-aac2afb5c705"
      },
      "source": [
        "# Example 3\n",
        "# Let's create another dictionary\n",
        "#\n",
        "our_class = {\n",
        "    'Name': '7 East', \n",
        "    'Students': 27, \n",
        "    'Wing': 'East'\n",
        "}\n",
        "\n",
        "# printing out our_class\n",
        "print(our_class)"
      ],
      "execution_count": null,
      "outputs": [
        {
          "output_type": "stream",
          "text": [
            "{'Name': '7 East', 'Students': 27, 'Wing': 'East'}\n"
          ],
          "name": "stdout"
        }
      ]
    },
    {
      "cell_type": "markdown",
      "metadata": {
        "id": "49K6mQJg7yUh"
      },
      "source": [
        "### 1.1 Challenges"
      ]
    },
    {
      "cell_type": "code",
      "metadata": {
        "id": "v5e2By6E76hW",
        "colab": {
          "base_uri": "https://localhost:8080/"
        },
        "outputId": "97a31eac-2978-4eb7-b5db-a537ecff53c5"
      },
      "source": [
        "# Challenge 1\n",
        "# Create a dictionary family with keys i.e. father,\n",
        "# mother, son and daughter. You can add values of your family\n",
        "# to the key values\n",
        "# \n",
        "family ={\n",
        "    'father': 'Joseph Mosima',\n",
        "    'mother': 'Norah Makori',\n",
        "    'son': 'Iain Mosima',\n",
        "    'daughter': 'Cynthia Kemunto'\n",
        "}\n",
        "print(family)"
      ],
      "execution_count": null,
      "outputs": [
        {
          "output_type": "stream",
          "text": [
            "{'father': 'Joseph Mosima', 'mother': 'Norah Makori', 'son': 'Iain Mosima', 'daughter': 'Cynthia Kemunto'}\n"
          ],
          "name": "stdout"
        }
      ]
    },
    {
      "cell_type": "code",
      "metadata": {
        "id": "tpBdeH5275i9",
        "colab": {
          "base_uri": "https://localhost:8080/"
        },
        "outputId": "9570d16a-b61e-4133-da6f-d7c61be624b8"
      },
      "source": [
        "# Challenge 2\n",
        "# Create a dictionary name powers_dictionary using numbers 1-5 as keys \n",
        "# and their square power as values.  \n",
        "#\n",
        "powers_dictionary = {\n",
        "    1: 1,\n",
        "    2: 4,\n",
        "    3: 9,\n",
        "    4: 16\n",
        "}\n",
        "print(powers_dictionary)"
      ],
      "execution_count": null,
      "outputs": [
        {
          "output_type": "stream",
          "text": [
            "{1: 1, 2: 4, 3: 9, 4: 16}\n"
          ],
          "name": "stdout"
        }
      ]
    },
    {
      "cell_type": "code",
      "metadata": {
        "id": "yf9bGNKEKsFF",
        "colab": {
          "base_uri": "https://localhost:8080/"
        },
        "outputId": "129b6b86-4351-4757-98f4-c5d1ca454f8a"
      },
      "source": [
        "# Challenge 3\n",
        "# A caterer offers three different food packages; \n",
        "# bronze package: starch:rice stew:chicken curry vegetable:cabbages desert:melon\n",
        "# silver package: starch:rice and chappati  stew:beef curry vegetable:spinach desert:melon and bananas\n",
        "# gold package: starch:rice, chappati and mukimo stew: beef curry vegetable:spinach and managu desert: tart\n",
        "# Create a dictionary that stores the above information then preview it\n",
        "# Hint: You can store a dictionary within a dictionary \n",
        "# \n",
        "food_packages = {\n",
        "    'bronze_package': {\n",
        "        'starch': 'rice',\n",
        "        'stew': 'chicken curry',\n",
        "        'vegetable': 'cabbages',\n",
        "        'desert': 'melon'\n",
        "    },\n",
        "    'silver package': {\n",
        "        'starch': 'rice and chapati',\n",
        "        'stew': 'beef curry',\n",
        "        'vegetable': 'spinach',\n",
        "        'desert': 'melon and bananas'\n",
        "    },\n",
        "    'gold package': {\n",
        "        'starch': 'rice, chapati and mukimo',\n",
        "        'stew': 'beef curry',\n",
        "        'vegetable': 'spinach and managu',\n",
        "        'desert': 'tart'\n",
        "    }\n",
        "}\n",
        "print(food_packages)"
      ],
      "execution_count": null,
      "outputs": [
        {
          "output_type": "stream",
          "text": [
            "{'bronze_package': {'starch': 'rice', 'stew': 'chicken curry', 'vegetable': 'cabbages', 'desert': 'melon'}, 'silver package': {'starch': 'rice and chapati', 'stew': 'beef curry', 'vegetable': 'spinach', 'desert': 'melon and bananas'}, 'gold package': {'starch': 'rice, chapati and mukimo', 'stew': 'beef curry', 'vegetable': 'spinach and managu', 'desert': 'tart'}}\n"
          ],
          "name": "stdout"
        }
      ]
    },
    {
      "cell_type": "markdown",
      "metadata": {
        "id": "UU3YIJYI3gwc"
      },
      "source": [
        "## 1.2 Adding Elements to a Dictionary"
      ]
    },
    {
      "cell_type": "code",
      "metadata": {
        "colab": {
          "base_uri": "https://localhost:8080/"
        },
        "id": "FpG4zGP1u1Gz",
        "outputId": "1e67575a-c3f6-4815-c18f-92366ccdf90c"
      },
      "source": [
        "print(my_new_friend)"
      ],
      "execution_count": null,
      "outputs": [
        {
          "output_type": "stream",
          "text": [
            "{'name': 'Femi', 'age': 24}\n"
          ],
          "name": "stdout"
        }
      ]
    },
    {
      "cell_type": "code",
      "metadata": {
        "id": "t-dKvalj7F44",
        "colab": {
          "base_uri": "https://localhost:8080/"
        },
        "outputId": "a2ab8973-2d60-41b3-f1e1-9f8a3050e2d2"
      },
      "source": [
        "# Example 1 \n",
        "# Adding a residence to my_new_friend dictionary that we had initially created\n",
        "# \n",
        "my_new_friend['residence'] = 'Nairobi'  \n",
        "\n",
        "# print out my_new_friend\n",
        "print(my_new_friend)"
      ],
      "execution_count": null,
      "outputs": [
        {
          "output_type": "stream",
          "text": [
            "{'name': 'Femi', 'age': 24, 'residence': 'Nairobi'}\n"
          ],
          "name": "stdout"
        }
      ]
    },
    {
      "cell_type": "code",
      "metadata": {
        "colab": {
          "base_uri": "https://localhost:8080/"
        },
        "id": "PKcW27OEu8rg",
        "outputId": "3fb9c6dc-cd60-41fb-da39-61a602441c42"
      },
      "source": [
        "print(car)"
      ],
      "execution_count": null,
      "outputs": [
        {
          "output_type": "stream",
          "text": [
            "{'brand': 'Toyota', 'model': 'Prado', 'year': 2007}\n"
          ],
          "name": "stdout"
        }
      ]
    },
    {
      "cell_type": "code",
      "metadata": {
        "id": "FsS9Ns-b7FnE",
        "colab": {
          "base_uri": "https://localhost:8080/"
        },
        "outputId": "f0b89f88-d9f1-445f-908f-e6a0cb28bc58"
      },
      "source": [
        "# Example 2\n",
        "# We now add color to our car dictionary\n",
        "#\n",
        "car[\"color\"] = \"light gray\"\n",
        "\n",
        "# and print out our dictionary\n",
        "print(car)"
      ],
      "execution_count": null,
      "outputs": [
        {
          "output_type": "stream",
          "text": [
            "{'brand': 'Toyota', 'model': 'Prado', 'year': 2007, 'color': 'light gray'}\n"
          ],
          "name": "stdout"
        }
      ]
    },
    {
      "cell_type": "code",
      "metadata": {
        "colab": {
          "base_uri": "https://localhost:8080/"
        },
        "id": "ziGJTqXRvGUF",
        "outputId": "07976eca-da0b-409b-9d1b-c5b3e0c2af01"
      },
      "source": [
        "print(our_class)"
      ],
      "execution_count": null,
      "outputs": [
        {
          "output_type": "stream",
          "text": [
            "{'Name': '7 East', 'Students': 27, 'Wing': 'East'}\n"
          ],
          "name": "stdout"
        }
      ]
    },
    {
      "cell_type": "code",
      "metadata": {
        "id": "GFY3EYiO7FcZ",
        "colab": {
          "base_uri": "https://localhost:8080/"
        },
        "outputId": "1916c281-09cd-4f12-da0e-b7a443a5a04b"
      },
      "source": [
        "# Example 3\n",
        "# Adding the school to the dictionary\n",
        "#\n",
        "our_class['School'] = \"Moringa School\";\n",
        "\n",
        "# printing out our class to see the updates\n",
        "print(our_class)"
      ],
      "execution_count": null,
      "outputs": [
        {
          "output_type": "stream",
          "text": [
            "{'Name': '7 East', 'Students': 27, 'Wing': 'East', 'School': 'Moringa School'}\n"
          ],
          "name": "stdout"
        }
      ]
    },
    {
      "cell_type": "markdown",
      "metadata": {
        "id": "7tzKw6l87-5h"
      },
      "source": [
        "### 1.2 Challenges"
      ]
    },
    {
      "cell_type": "code",
      "metadata": {
        "id": "jqbEx0BU8EL4",
        "colab": {
          "base_uri": "https://localhost:8080/"
        },
        "outputId": "f7a908e0-fa77-4b24-df32-e37a51ba14d1"
      },
      "source": [
        "# Challenge 1: \n",
        "# Naivas Supermarket sells two products: bread and milk. \n",
        "# A loaf of bread weighs 400 grams. Each packet of milk is 0.5 litre. \n",
        "# Write a program that reads the number of bread \n",
        "# and the number of packets of milk in an order from the user. \n",
        "# Then your program should compute and display the total quantity of the order.\n",
        "# You should store the order in the dictionary and \n",
        "# prompt the user for another input.\n",
        "# \n",
        "order = {\n",
        "    'Number of bread' : '',\n",
        "    'Number of milk packets' : '', \n",
        "    'Quantity of bread' : '',\n",
        "    'Quantity of milk packets' : ''\n",
        "\n",
        "}\n",
        "def quantity():\n",
        "    bread = int(input(\"Input the number of bread: \"))\n",
        "    milk = int(input(\"Input the number of milk packets: \"))\n",
        "\n",
        "    Quantity_of_bread = 400 * bread\n",
        "    Quantity_of_milk_packets = 0.5 * milk\n",
        "\n",
        "    order['Number of bread'] = bread\n",
        "    order['Number of milk packets'] = milk\n",
        "    order['Quantity of bread'] = Quantity_of_bread \n",
        "    order['Quantity of milk packets'] = Quantity_of_milk_packets\n",
        "\n",
        "    print(\"NB: Quantity of bread is in grams and that of milk is in litres\")\n",
        "    print(order)\n",
        "    decision = input(\"Would you like to input another order?(y/n): \")\n",
        "    if decision == 'y':\n",
        "      quantity()\n",
        "    elif decision == 'n':\n",
        "      print(\"Done\")\n",
        "    else:\n",
        "      print(\"Use the conditions y or n\")\n",
        "quantity()"
      ],
      "execution_count": null,
      "outputs": [
        {
          "output_type": "stream",
          "text": [
            "Input the number of bread: 7\n",
            "Input the number of milk packets: 8\n",
            "NB: Quantity of bread is in grams and that of milk is in litres\n",
            "{'Number of bread': 7, 'Number of milk packets': 8, 'Quantity of bread': 2800, 'Quantity of milk packets': 4.0}\n",
            "Would you like to input another order?(y/n): y\n",
            "Input the number of bread: 10\n",
            "Input the number of milk packets: 9\n",
            "NB: Quantity of bread is in grams and that of milk is in litres\n",
            "{'Number of bread': 10, 'Number of milk packets': 9, 'Quantity of bread': 4000, 'Quantity of milk packets': 4.5}\n",
            "Would you like to input another order?(y/n): n\n",
            "Done\n"
          ],
          "name": "stdout"
        }
      ]
    },
    {
      "cell_type": "code",
      "metadata": {
        "id": "gQTOkgy2kgLT",
        "colab": {
          "base_uri": "https://localhost:8080/"
        },
        "outputId": "58c45f95-3d42-4267-c41c-9ff4c3a80d61"
      },
      "source": [
        "# Challenge 2:\n",
        "# Two words are anagrams if they contain all of the same letters, \n",
        "# but in a different order. For example, “evil” and “live” \n",
        "# are anagrams because each contains one e, one i, one l, and one v. \n",
        "# Create a program that reads two strings from the user, determines\n",
        "# whether or not they are anagrams, stores and reports the result.\n",
        "# Use a dictionary to solve this problem.\n",
        "# \n",
        "string = input(\"Input the first string : \")\n",
        "string1 = input(\"Input the second string : \")\n",
        "anagrams = {}\n",
        "not_anagrams = {}\n",
        "\n",
        "if(sorted(string)== sorted(string1)):\n",
        "      print(\"The strings are anagrams\")\n",
        "      anagrams = {string,string1}\n",
        "      print(anagrams)\n",
        "else:\n",
        "    not_anagrams = {string,string1}\n",
        "    print(\"The strings are not anagrams\")\n",
        "    print(not_anagrams)"
      ],
      "execution_count": null,
      "outputs": [
        {
          "output_type": "stream",
          "text": [
            "Input the first string : evil\n",
            "Input the second string : live\n",
            "The strings are anagrams\n",
            "{'evil', 'live'}\n"
          ],
          "name": "stdout"
        }
      ]
    },
    {
      "cell_type": "code",
      "metadata": {
        "id": "3pcE1f56f87G",
        "colab": {
          "base_uri": "https://localhost:8080/"
        },
        "outputId": "1c30b53d-2d0c-4b73-ba5d-8b06d6956a87"
      },
      "source": [
        "# Challenge 3:\n",
        "# Create a program that determines and displays \n",
        "# the number of characters in a string entered by the user. \n",
        "# For example, \"Hello, World!\" has 13  characters while \n",
        "# abc has only three character. \n",
        "# Use a dictionary to solve this problem.\n",
        "# \n",
        "string = input(\"Input a string to determine the number of characters: \")\n",
        "number_of_characters = len(string)\n",
        "print(\"The number of characters is :\",number_of_characters)"
      ],
      "execution_count": null,
      "outputs": [
        {
          "output_type": "stream",
          "text": [
            "Input a string to determine the number of characters: Hello, World!\n",
            "The number of characters is : 13\n"
          ],
          "name": "stdout"
        }
      ]
    },
    {
      "cell_type": "markdown",
      "metadata": {
        "id": "hzmMe5TP32ra"
      },
      "source": [
        "## 1.3 Updating Elements in a Dictionary"
      ]
    },
    {
      "cell_type": "code",
      "metadata": {
        "id": "J66GyFzt7I_X",
        "colab": {
          "base_uri": "https://localhost:8080/"
        },
        "outputId": "9c6681ed-c8f6-4962-edfa-d2bb02324d5c"
      },
      "source": [
        "# Example 1\n",
        "# Let's update age on the dictionary my_new_friend \n",
        "#\n",
        "my_new_friend['age'] = 24\n",
        "\n",
        "# print out\n",
        "print(my_new_friend)"
      ],
      "execution_count": null,
      "outputs": [
        {
          "output_type": "stream",
          "text": [
            "{'name': 'Femi', 'age': 24, 'residence': 'Nairobi'}\n"
          ],
          "name": "stdout"
        }
      ]
    },
    {
      "cell_type": "code",
      "metadata": {
        "colab": {
          "base_uri": "https://localhost:8080/"
        },
        "id": "h2KdVHrHy2Ad",
        "outputId": "f58d8bcf-93d7-4ce0-aa23-7ed2dab73b1d"
      },
      "source": [
        "print(car)"
      ],
      "execution_count": null,
      "outputs": [
        {
          "output_type": "stream",
          "text": [
            "{'brand': 'Toyota', 'model': 'Prado', 'year': 2007, 'color': 'light gray'}\n"
          ],
          "name": "stdout"
        }
      ]
    },
    {
      "cell_type": "code",
      "metadata": {
        "id": "zhJabm-I7Jr4",
        "colab": {
          "base_uri": "https://localhost:8080/"
        },
        "outputId": "953e1391-2161-4414-b65f-60c2ce83ab68"
      },
      "source": [
        "# Example 2\n",
        "# Let's update our dictionary my_new_friend\n",
        "#\n",
        "car[\"color\"] = \"blue\"\n",
        "\n",
        "# and print out our dictionary\n",
        "print(car)"
      ],
      "execution_count": null,
      "outputs": [
        {
          "output_type": "stream",
          "text": [
            "{'brand': 'Toyota', 'model': 'Prado', 'year': 2007, 'color': 'blue'}\n"
          ],
          "name": "stdout"
        }
      ]
    },
    {
      "cell_type": "code",
      "metadata": {
        "colab": {
          "base_uri": "https://localhost:8080/"
        },
        "id": "psPBb07VzGsy",
        "outputId": "0f16e054-2320-432b-91b8-56f6f97fb2d3"
      },
      "source": [
        "print(our_class)"
      ],
      "execution_count": null,
      "outputs": [
        {
          "output_type": "stream",
          "text": [
            "{'Name': '7 East', 'Students': 27, 'Wing': 'East', 'School': 'Moringa School'}\n"
          ],
          "name": "stdout"
        }
      ]
    },
    {
      "cell_type": "code",
      "metadata": {
        "id": "PbbAVPsO7JfJ",
        "colab": {
          "base_uri": "https://localhost:8080/"
        },
        "outputId": "73728592-cd46-4316-d3c3-d30e5f24f1c4"
      },
      "source": [
        "# Example 3\n",
        "# Updating our class \n",
        "#\n",
        "our_class['Students'] = 29;\n",
        "\n",
        "# printing out our class to see the updates\n",
        "print(our_class)"
      ],
      "execution_count": null,
      "outputs": [
        {
          "output_type": "stream",
          "text": [
            "{'Name': '7 East', 'Students': 29, 'Wing': 'East', 'School': 'Moringa School'}\n"
          ],
          "name": "stdout"
        }
      ]
    },
    {
      "cell_type": "markdown",
      "metadata": {
        "id": "Hp9Jaf8V8PE1"
      },
      "source": [
        "### 1.3 Challenges"
      ]
    },
    {
      "cell_type": "code",
      "metadata": {
        "colab": {
          "base_uri": "https://localhost:8080/"
        },
        "id": "t-bI32ACzt21",
        "outputId": "b84f913c-10f3-4100-9932-6d3febbf383e"
      },
      "source": [
        "print(family)"
      ],
      "execution_count": null,
      "outputs": [
        {
          "output_type": "stream",
          "text": [
            "{'father': 'Joseph Mosima', 'mother': 'Norah Makori', 'son': 'Iain Mosima', 'daughter': 'Cynthia Kemunto'}\n"
          ],
          "name": "stdout"
        }
      ]
    },
    {
      "cell_type": "code",
      "metadata": {
        "id": "LcK4RI6K8Qrp",
        "colab": {
          "base_uri": "https://localhost:8080/"
        },
        "outputId": "cff1297a-92f5-453c-8748-7742abf56e21"
      },
      "source": [
        "# Challenge 1\n",
        "# Let's update the value of the son and daughter keys of the family dictionary \n",
        "# that we had earlier on created\n",
        "#\n",
        "family['son'] = 'Dan Makori'\n",
        "family['daughter'] = 'Fiorine Cynthia'\n",
        "print(family)"
      ],
      "execution_count": null,
      "outputs": [
        {
          "output_type": "stream",
          "text": [
            "{'father': 'Joseph Mosima', 'mother': 'Norah Makori', 'son': 'Dan Makori', 'daughter': 'Fiorine Cynthia'}\n"
          ],
          "name": "stdout"
        }
      ]
    },
    {
      "cell_type": "code",
      "metadata": {
        "colab": {
          "base_uri": "https://localhost:8080/"
        },
        "id": "3Kqlvw7Fz_f7",
        "outputId": "0ea49c4a-61a4-4af3-b56e-ccc7a8c62f5b"
      },
      "source": [
        "print(food_packages)"
      ],
      "execution_count": null,
      "outputs": [
        {
          "output_type": "stream",
          "text": [
            "{'bronze_package': {'starch': 'rice', 'stew': 'chicken curry', 'vegetable': 'cabbages', 'desert': 'melon'}, 'silver package': {'starch': 'rice and chapati', 'stew': 'beef curry', 'vegetable': 'spinach', 'desert': 'melon and bananas'}, 'gold package': {'starch': 'rice, chapati and mukimo', 'stew': 'beef curry', 'vegetable': 'spinach and managu', 'desert': 'tart'}}\n"
          ],
          "name": "stdout"
        }
      ]
    },
    {
      "cell_type": "code",
      "metadata": {
        "id": "EEU_gZax8RN6",
        "colab": {
          "base_uri": "https://localhost:8080/"
        },
        "outputId": "15eb2567-a06b-4cc8-8e5f-8c932e3c0055"
      },
      "source": [
        "# Challenge 2\n",
        "# Update value of the gold package in the caterer dictionary to \n",
        "# have vegetable as spinach, cabbage and managu\n",
        "#\n",
        "food_packages['gold package']['vegetable'] = 'spinach, cabbage and managu'\n",
        "print(food_packages)"
      ],
      "execution_count": null,
      "outputs": [
        {
          "output_type": "stream",
          "text": [
            "{'bronze_package': {'starch': 'rice', 'stew': 'chicken curry', 'vegetable': 'cabbages', 'desert': 'melon'}, 'silver package': {'starch': 'rice and chapati', 'stew': 'beef curry', 'vegetable': 'spinach', 'desert': 'melon and bananas'}, 'gold package': {'starch': 'rice, chapati and mukimo', 'stew': 'beef curry', 'vegetable': 'spinach, cabbage and managu', 'desert': 'tart'}}\n"
          ],
          "name": "stdout"
        }
      ]
    },
    {
      "cell_type": "code",
      "metadata": {
        "colab": {
          "base_uri": "https://localhost:8080/"
        },
        "id": "08Xj8z38NlXu",
        "outputId": "6095575f-9895-4444-eb97-1de1db6294d9"
      },
      "source": [
        "print(order)"
      ],
      "execution_count": null,
      "outputs": [
        {
          "output_type": "stream",
          "text": [
            "{'Number of bread': 7, 'Number of milk packets': 3.0, 'Quantity of bread': 2800, 'Quantity of milk packets': ''}\n"
          ],
          "name": "stdout"
        }
      ]
    },
    {
      "cell_type": "code",
      "metadata": {
        "id": "jMEwHQI18RCX",
        "colab": {
          "base_uri": "https://localhost:8080/"
        },
        "outputId": "387d060f-8354-4175-e283-5591aa300e63"
      },
      "source": [
        "# Challenge 3\n",
        "# Upon creating the Naivas supermarket dictionary program earlier on,\n",
        "# We will now extend the functionality of your program to be able to also update\n",
        "# the quantity of either the bread or packet of milk.\n",
        "# Write another program that will prompt the user to indicate whether they want\n",
        "# to update the quantity of the product or compute the total quantity of the total order.\n",
        "# Using if statements, your program should execute either to the code you had earlier\n",
        "# on written or to the new code for updating that you will now write\n",
        "#\n",
        "update_quantity_of_product = input(\"Do you want to update the quantity of the products? (y/n): \") \n",
        "if update_quantity_of_product == 'y':\n",
        "    new_bread_quantity = int(input(\"Input new bread quantity: \"))\n",
        "    new_milk_quantity = int(input(\"Input the new milk quantity: \"))\n",
        "    order['Number of bread'] = new_bread_quantity\n",
        "    order['Number of milk packets'] = new_milk_quantity\n",
        "    \n",
        "    print(\"NB: Quantity of bread is in grams and that of milk is in litres\")\n",
        "    print(order)\n",
        "elif update_quantity_of_product == 'n':\n",
        "    compute_total_quantity_order = input(\"Do you want to compute the total quantity of the products? (y/n): \")\n",
        "    if compute_total_quantity_order == 'y':\n",
        "      print(\"Total quantity of bread is: \" +str(order['Quantity of bread'])+ \" grams\")\n",
        "      print(\"Total quantity of milk packets is: \" +str(order['Quantity of milk packets'])+ \" litres\")\n",
        "    elif compute_total_quantity_order == 'n':\n",
        "      print(\"Done\")\n",
        "    else:\n",
        "      print(\"Use y or n\")\n",
        "else:\n",
        "  print(\"Use y or n\")"
      ],
      "execution_count": null,
      "outputs": [
        {
          "output_type": "stream",
          "text": [
            "Do you want to update the quantity of the products? (y/n): y\n",
            "Input new bread quantity: 20\n",
            "Input the new milk quantity: 2\n",
            "NB: Quantity of bread is in grams and that of milk is in litres\n",
            "{'Number of bread': 20, 'Number of milk packets': 2, 'Quantity of bread': 2000, 'Quantity of milk packets': 3.0}\n"
          ],
          "name": "stdout"
        }
      ]
    },
    {
      "cell_type": "markdown",
      "metadata": {
        "id": "50S5D_qI3kDD"
      },
      "source": [
        "## 1.4 Accessing Elements from a Dictionary"
      ]
    },
    {
      "cell_type": "code",
      "metadata": {
        "colab": {
          "base_uri": "https://localhost:8080/"
        },
        "id": "cUJyB7Fm6UR9",
        "outputId": "ee116f96-09df-4351-8ce4-f9a6e766819d"
      },
      "source": [
        "print(my_new_friend)"
      ],
      "execution_count": null,
      "outputs": [
        {
          "output_type": "stream",
          "text": [
            "{'name': 'Femi', 'age': 24, 'residence': 'Nairobi'}\n"
          ],
          "name": "stdout"
        }
      ]
    },
    {
      "cell_type": "code",
      "metadata": {
        "id": "ZBJa2FHU7Muf",
        "colab": {
          "base_uri": "https://localhost:8080/"
        },
        "outputId": "9dcc2272-dbc6-4f08-cb77-f87bf12ef8a5"
      },
      "source": [
        "# Example 1\n",
        "# Accessing my_new_friend dictionary \n",
        "#\n",
        "name_a = my_new_friend[\"name\"]\n",
        "\n",
        "# print name_a\n",
        "print(name_a)\n",
        "\n",
        "# or we could also\n",
        "name_b = my_new_friend.get(\"name\")\n",
        "\n",
        "# print name_b\n",
        "print(name_b)"
      ],
      "execution_count": null,
      "outputs": [
        {
          "output_type": "stream",
          "text": [
            "Femi\n",
            "Femi\n"
          ],
          "name": "stdout"
        }
      ]
    },
    {
      "cell_type": "code",
      "metadata": {
        "id": "A8ggbH347NPz",
        "colab": {
          "base_uri": "https://localhost:8080/"
        },
        "outputId": "8bed6651-c439-4ea8-bd01-8886573db637"
      },
      "source": [
        "# Example 2\n",
        "# Accessing the model in the car dictionary\n",
        "#\n",
        "car_a = car[\"model\"]\n",
        "\n",
        "# print car_a\n",
        "print(car_a)\n",
        "\n",
        "# or we could also\n",
        "car_b = car.get(\"model\")\n",
        "\n",
        "# print name_b\n",
        "print(car_b)"
      ],
      "execution_count": null,
      "outputs": [
        {
          "output_type": "stream",
          "text": [
            "Prado\n",
            "Prado\n"
          ],
          "name": "stdout"
        }
      ]
    },
    {
      "cell_type": "code",
      "metadata": {
        "id": "eaZxBKDf7NF4",
        "colab": {
          "base_uri": "https://localhost:8080/"
        },
        "outputId": "87ca66f0-a37a-46e4-8960-84c97f905972"
      },
      "source": [
        "# Example 3\n",
        "# Accessing the name in our_class dictionary\n",
        "#\n",
        "our_class_a = our_class[\"Name\"]\n",
        "\n",
        "# or we could also\n",
        "our_class_b = our_class.get(\"Name\")\n",
        "\n",
        "# print our_class_b \n",
        "print(our_class_b)"
      ],
      "execution_count": null,
      "outputs": [
        {
          "output_type": "stream",
          "text": [
            "7 East\n"
          ],
          "name": "stdout"
        }
      ]
    },
    {
      "cell_type": "markdown",
      "metadata": {
        "id": "mqnSUp-a8I65"
      },
      "source": [
        "### 1.4 Challenges"
      ]
    },
    {
      "cell_type": "code",
      "metadata": {
        "colab": {
          "base_uri": "https://localhost:8080/"
        },
        "id": "TvWd9egq6sDl",
        "outputId": "5e86d3ab-4ef2-4907-f82d-ee65fa024a23"
      },
      "source": [
        "print(powers_dictionary)"
      ],
      "execution_count": null,
      "outputs": [
        {
          "output_type": "stream",
          "text": [
            "{1: 1, 2: 4, 3: 9, 4: 16}\n"
          ],
          "name": "stdout"
        }
      ]
    },
    {
      "cell_type": "code",
      "metadata": {
        "id": "uE_DKh_N8XMj",
        "colab": {
          "base_uri": "https://localhost:8080/"
        },
        "outputId": "afac8964-7448-43a5-8e8e-f3e1c5c0e712"
      },
      "source": [
        "# Challenge 1\n",
        "# What is the power of 4 from the powers_dictionary\n",
        "# \n",
        "power_of_4 = powers_dictionary[4]\n",
        "print(power_of_4)"
      ],
      "execution_count": null,
      "outputs": [
        {
          "output_type": "stream",
          "text": [
            "16\n"
          ],
          "name": "stdout"
        }
      ]
    },
    {
      "cell_type": "code",
      "metadata": {
        "colab": {
          "base_uri": "https://localhost:8080/"
        },
        "id": "8deZuZ1h66kA",
        "outputId": "0c7397ad-5d74-4734-d37c-e5b6378e0829"
      },
      "source": [
        "print(food_packages)"
      ],
      "execution_count": null,
      "outputs": [
        {
          "output_type": "stream",
          "text": [
            "{'bronze_package': {'starch': 'rice', 'stew': 'chicken curry', 'vegetable': 'cabbages', 'desert': 'melon'}, 'silver package': {'starch': 'rice and chapati', 'stew': 'beef curry', 'vegetable': 'spinach', 'desert': 'melon and bananas'}, 'gold package': {'starch': 'rice, chapati and mukimo', 'stew': 'beef curry', 'vegetable': 'spinach, cabbage and managu', 'desert': 'tart'}}\n"
          ],
          "name": "stdout"
        }
      ]
    },
    {
      "cell_type": "code",
      "metadata": {
        "id": "dt-ZmzrQ8YIM",
        "colab": {
          "base_uri": "https://localhost:8080/"
        },
        "outputId": "88a9d9b7-c019-43a6-fddb-418a316581a0"
      },
      "source": [
        "# Challenge 2\n",
        "# Let's access the silver package from our caterer dictionary\n",
        "#\n",
        "silver_package = food_packages['silver package']\n",
        "print(silver_package)"
      ],
      "execution_count": null,
      "outputs": [
        {
          "output_type": "stream",
          "text": [
            "{'starch': 'rice and chapati', 'stew': 'beef curry', 'vegetable': 'spinach', 'desert': 'melon and bananas'}\n"
          ],
          "name": "stdout"
        }
      ]
    },
    {
      "cell_type": "code",
      "metadata": {
        "colab": {
          "base_uri": "https://localhost:8080/"
        },
        "id": "Lp2lNJee7MnY",
        "outputId": "eff8c82a-cf2e-4d11-8f46-c7856b794fad"
      },
      "source": [
        "print(family)"
      ],
      "execution_count": null,
      "outputs": [
        {
          "output_type": "stream",
          "text": [
            "{'father': 'Joseph Mosima', 'mother': 'Norah Makori', 'son': 'Dan Makori', 'daughter': 'Fiorine Cynthia'}\n"
          ],
          "name": "stdout"
        }
      ]
    },
    {
      "cell_type": "code",
      "metadata": {
        "id": "xLEaTJdY8X4t",
        "colab": {
          "base_uri": "https://localhost:8080/"
        },
        "outputId": "83e8c26d-1062-4084-9899-93b7887d4f73"
      },
      "source": [
        "# Challenge 3\n",
        "# Access the name of the father from the family dictionary\n",
        "# \n",
        "father = family['father']\n",
        "print(family)"
      ],
      "execution_count": null,
      "outputs": [
        {
          "output_type": "stream",
          "text": [
            "{'father': 'Joseph Mosima', 'mother': 'Norah Makori', 'son': 'Dan Makori', 'daughter': 'Fiorine Cynthia'}\n"
          ],
          "name": "stdout"
        }
      ]
    },
    {
      "cell_type": "markdown",
      "metadata": {
        "id": "Amb1Bsrbwx6C"
      },
      "source": [
        "## 1.5 Checking if a Key exists"
      ]
    },
    {
      "cell_type": "code",
      "metadata": {
        "colab": {
          "base_uri": "https://localhost:8080/"
        },
        "id": "XGlxeZrY71Yl",
        "outputId": "19a045a6-fc48-4766-f78c-d50d50fab802"
      },
      "source": [
        "print(my_new_friend)"
      ],
      "execution_count": null,
      "outputs": [
        {
          "output_type": "stream",
          "text": [
            "{'name': 'Femi', 'age': 24, 'residence': 'Nairobi'}\n"
          ],
          "name": "stdout"
        }
      ]
    },
    {
      "cell_type": "code",
      "metadata": {
        "id": "bcY3c6DHwwu2",
        "colab": {
          "base_uri": "https://localhost:8080/"
        },
        "outputId": "6f27ba65-36a0-454f-cf5b-7df2f3184b93"
      },
      "source": [
        "# Example 1\n",
        "# We can check if a specified key exists within a dictionary through the use of the `in` keyword;\n",
        "# Let's check if the keyword residence exists in my_new_friend dictionary\n",
        "# \n",
        "if \"residence\" in my_new_friend:\n",
        "  print(\"Yes, the keyword exists in the dictionary\")\n",
        "else:\n",
        "  print('No, the keyword does not exist in the dictionary')"
      ],
      "execution_count": null,
      "outputs": [
        {
          "output_type": "stream",
          "text": [
            "Yes, the keyword exists in the dictionary\n"
          ],
          "name": "stdout"
        }
      ]
    },
    {
      "cell_type": "code",
      "metadata": {
        "colab": {
          "base_uri": "https://localhost:8080/"
        },
        "id": "80lQMc258OCp",
        "outputId": "d8f09804-b688-4eca-9c1d-572d1a17c79b"
      },
      "source": [
        "print(car)"
      ],
      "execution_count": null,
      "outputs": [
        {
          "output_type": "stream",
          "text": [
            "{'brand': 'Toyota', 'model': 'Prado', 'year': 2007, 'color': 'blue'}\n"
          ],
          "name": "stdout"
        }
      ]
    },
    {
      "cell_type": "code",
      "metadata": {
        "id": "KJYTGPMKw52k",
        "colab": {
          "base_uri": "https://localhost:8080/"
        },
        "outputId": "26bf7e41-9dc9-4b6b-edc5-ec8aea5d1c58"
      },
      "source": [
        "# Example 2\n",
        "# Let's check if the keyword year exists in car dictionary\n",
        "#\n",
        "if \"year\" in car:\n",
        "  print(\"Yes, the keyword exists in the dictionary\")\n",
        "else:\n",
        "  print('No, the keyword does not exist in the dictionary')"
      ],
      "execution_count": null,
      "outputs": [
        {
          "output_type": "stream",
          "text": [
            "Yes, the keyword exists in the dictionary\n"
          ],
          "name": "stdout"
        }
      ]
    },
    {
      "cell_type": "code",
      "metadata": {
        "colab": {
          "base_uri": "https://localhost:8080/"
        },
        "id": "DGUN0fk08RrU",
        "outputId": "ddc05bf4-0be5-4e5f-dd20-ff29b40e16c2"
      },
      "source": [
        "print(our_class)"
      ],
      "execution_count": null,
      "outputs": [
        {
          "output_type": "stream",
          "text": [
            "{'Name': '7 East', 'Students': 29, 'Wing': 'East', 'School': 'Moringa School'}\n"
          ],
          "name": "stdout"
        }
      ]
    },
    {
      "cell_type": "code",
      "metadata": {
        "id": "U0sTioBMw5tU",
        "colab": {
          "base_uri": "https://localhost:8080/"
        },
        "outputId": "3d1207ae-4424-45bc-d8c1-5fe8c0cb26fd"
      },
      "source": [
        "# Example 3\n",
        "# Checking if the keyword Wing exists in our_class dictionary\n",
        "#\n",
        "if \"Wing\" in our_class:\n",
        "  print(\"Yes, the keyword exists in the dictionary\")\n",
        "else:\n",
        "  print('No, the keyword does not exist in the dictionary')"
      ],
      "execution_count": null,
      "outputs": [
        {
          "output_type": "stream",
          "text": [
            "Yes, the keyword exists in the dictionary\n"
          ],
          "name": "stdout"
        }
      ]
    },
    {
      "cell_type": "markdown",
      "metadata": {
        "id": "1OFB5fL1w6TM"
      },
      "source": [
        "### 1.5 Challenges"
      ]
    },
    {
      "cell_type": "code",
      "metadata": {
        "colab": {
          "base_uri": "https://localhost:8080/"
        },
        "id": "lp_hSgsE8WMP",
        "outputId": "588bd32f-0c2d-45a9-fbb8-b1143ea6bf35"
      },
      "source": [
        "print(car)"
      ],
      "execution_count": null,
      "outputs": [
        {
          "output_type": "stream",
          "text": [
            "{'brand': 'Toyota', 'model': 'Prado', 'year': 2007, 'color': 'blue'}\n"
          ],
          "name": "stdout"
        }
      ]
    },
    {
      "cell_type": "code",
      "metadata": {
        "id": "oUCqFuf_w--X",
        "colab": {
          "base_uri": "https://localhost:8080/"
        },
        "outputId": "2ca63fee-4c16-4d47-9dd9-afc2679572dd"
      },
      "source": [
        "# Challenge 1\n",
        "# Does the model key exist in our car dictionary?\n",
        "#\n",
        "if \"key\" in car:\n",
        "  print(\"Yes, the keyword exists in the dictionary\")\n",
        "else:\n",
        "  print(\"No, the keyword does not exist in the dictionary\")"
      ],
      "execution_count": null,
      "outputs": [
        {
          "output_type": "stream",
          "text": [
            "No, the keyword does not exist in the dictionary\n"
          ],
          "name": "stdout"
        }
      ]
    },
    {
      "cell_type": "code",
      "metadata": {
        "colab": {
          "base_uri": "https://localhost:8080/"
        },
        "id": "6sZHBtkI8o6e",
        "outputId": "d9823207-c217-406c-9cc1-61934cf28ef6"
      },
      "source": [
        "print(powers_dictionary)"
      ],
      "execution_count": null,
      "outputs": [
        {
          "output_type": "stream",
          "text": [
            "{1: 1, 2: 4, 3: 9, 4: 16}\n"
          ],
          "name": "stdout"
        }
      ]
    },
    {
      "cell_type": "code",
      "metadata": {
        "id": "y2KKTbcmw_jK",
        "colab": {
          "base_uri": "https://localhost:8080/"
        },
        "outputId": "52b32276-1f82-45b3-b41e-6dca46093214"
      },
      "source": [
        "# Challenge 2\n",
        "# Does te\n",
        "# Let's get the power of 6 from our already created powers dictionary\n",
        "#\n",
        "if 6 in powers_dictionary:\n",
        "  print(\"Yes, the power does exist in the dictionary\")\n",
        "else:\n",
        "  print(\"No, the power does not exist in the dictionary\")"
      ],
      "execution_count": null,
      "outputs": [
        {
          "output_type": "stream",
          "text": [
            "No, the power does not exist in the dictionary\n"
          ],
          "name": "stdout"
        }
      ]
    },
    {
      "cell_type": "code",
      "metadata": {
        "colab": {
          "base_uri": "https://localhost:8080/"
        },
        "id": "6zthk24288SA",
        "outputId": "e6db94b2-536f-4a61-fb54-c6b84ded9326"
      },
      "source": [
        "print(food_packages)"
      ],
      "execution_count": null,
      "outputs": [
        {
          "output_type": "stream",
          "text": [
            "{'bronze_package': {'starch': 'rice', 'stew': 'chicken curry', 'vegetable': 'cabbages', 'desert': 'melon'}, 'silver package': {'starch': 'rice and chapati', 'stew': 'beef curry', 'vegetable': 'spinach', 'desert': 'melon and bananas'}, 'gold package': {'vegetable': 'spinach, cabbage and managu'}}\n"
          ],
          "name": "stdout"
        }
      ]
    },
    {
      "cell_type": "code",
      "metadata": {
        "id": "bGck3KPGw_HE",
        "colab": {
          "base_uri": "https://localhost:8080/"
        },
        "outputId": "ec7e6d1e-abb7-405e-b319-c29ba636b8a8"
      },
      "source": [
        "# Challenge 3\n",
        "# Let's find out if the diamond package exists in the caterer package\n",
        "#\n",
        "if \"diamond package\" in food_packages:\n",
        "  print(\"Yes, the package does exist in the dictionart\")\n",
        "else:\n",
        "  print(\"No, the package does not exist in the dictionart\")"
      ],
      "execution_count": null,
      "outputs": [
        {
          "output_type": "stream",
          "text": [
            "No, the package does not exist in the dictionart\n"
          ],
          "name": "stdout"
        }
      ]
    },
    {
      "cell_type": "markdown",
      "metadata": {
        "id": "GDrqXhcWzs6s"
      },
      "source": [
        "## 1.6 The No. of elements in a Dictionary"
      ]
    },
    {
      "cell_type": "code",
      "metadata": {
        "colab": {
          "base_uri": "https://localhost:8080/"
        },
        "id": "USJux03X9YJ4",
        "outputId": "298a6465-25f2-4e8f-c453-97aa98963963"
      },
      "source": [
        "print(my_new_friend)"
      ],
      "execution_count": null,
      "outputs": [
        {
          "output_type": "stream",
          "text": [
            "{'name': 'Femi', 'age': 24, 'residence': 'Nairobi'}\n"
          ],
          "name": "stdout"
        }
      ]
    },
    {
      "cell_type": "code",
      "metadata": {
        "id": "mQMc9N3TzvUA",
        "colab": {
          "base_uri": "https://localhost:8080/"
        },
        "outputId": "8f983aa7-5f4e-4810-c66f-5b8d6684913c"
      },
      "source": [
        "# Example 1\n",
        "# We can use keyword `len()` to determine how many items (key - value pairs) there are in the dictionary.\n",
        "# Finding out how many items there are in the my_new_friend dictionary\n",
        "#\n",
        "print(len(my_new_friend))"
      ],
      "execution_count": null,
      "outputs": [
        {
          "output_type": "stream",
          "text": [
            "3\n"
          ],
          "name": "stdout"
        }
      ]
    },
    {
      "cell_type": "code",
      "metadata": {
        "colab": {
          "base_uri": "https://localhost:8080/"
        },
        "id": "dB2ScfyY9c2T",
        "outputId": "2ad5e106-fec4-4e41-9536-3522a330f5d5"
      },
      "source": [
        "print(car)"
      ],
      "execution_count": null,
      "outputs": [
        {
          "output_type": "stream",
          "text": [
            "{'brand': 'Toyota', 'model': 'Prado', 'year': 2007, 'color': 'blue'}\n"
          ],
          "name": "stdout"
        }
      ]
    },
    {
      "cell_type": "code",
      "metadata": {
        "id": "YJbVoIfzzvkC",
        "colab": {
          "base_uri": "https://localhost:8080/"
        },
        "outputId": "09d8e199-8284-4f1a-c3fa-d7e39681ebc1"
      },
      "source": [
        "# Example 2\n",
        "# Finding out how many items there are in the car dictionary\n",
        "#\n",
        "print(len(car))"
      ],
      "execution_count": null,
      "outputs": [
        {
          "output_type": "stream",
          "text": [
            "4\n"
          ],
          "name": "stdout"
        }
      ]
    },
    {
      "cell_type": "code",
      "metadata": {
        "colab": {
          "base_uri": "https://localhost:8080/"
        },
        "id": "z6fkqW-G9ha7",
        "outputId": "07666f94-76cc-457a-b3b2-10ba49591354"
      },
      "source": [
        "print(our_class)"
      ],
      "execution_count": null,
      "outputs": [
        {
          "output_type": "stream",
          "text": [
            "{'Name': '7 East', 'Students': 29, 'Wing': 'East', 'School': 'Moringa School'}\n"
          ],
          "name": "stdout"
        }
      ]
    },
    {
      "cell_type": "code",
      "metadata": {
        "id": "ubNhcSttz050",
        "colab": {
          "base_uri": "https://localhost:8080/"
        },
        "outputId": "3e7ceb95-c762-429e-b394-b21edb932a97"
      },
      "source": [
        "# Example 3\n",
        "# Finding out how many items there are in the our_class dictionary\n",
        "#\n",
        "print(len(our_class))"
      ],
      "execution_count": null,
      "outputs": [
        {
          "output_type": "stream",
          "text": [
            "4\n"
          ],
          "name": "stdout"
        }
      ]
    },
    {
      "cell_type": "markdown",
      "metadata": {
        "id": "zN0YcqMmzwGU"
      },
      "source": [
        "### 1.6 Challenges"
      ]
    },
    {
      "cell_type": "code",
      "metadata": {
        "colab": {
          "base_uri": "https://localhost:8080/"
        },
        "id": "d4trZMT39luw",
        "outputId": "ee2fc546-33c3-499e-e967-67e657ee5f9f"
      },
      "source": [
        "print(family)"
      ],
      "execution_count": null,
      "outputs": [
        {
          "output_type": "stream",
          "text": [
            "{'father': 'Joseph Mosima', 'mother': 'Norah Makori', 'son': 'Dan Makori', 'daughter': 'Fiorine Cynthia'}\n"
          ],
          "name": "stdout"
        }
      ]
    },
    {
      "cell_type": "code",
      "metadata": {
        "id": "9SWkSQvnz2bh",
        "colab": {
          "base_uri": "https://localhost:8080/"
        },
        "outputId": "cc6c32f0-ecdf-439d-ad36-5738e8615e5e"
      },
      "source": [
        "# Challenge 1\n",
        "# Using the family dictionary, let's determine how many family members there are in the family?\n",
        "#\n",
        "print(len(family))"
      ],
      "execution_count": null,
      "outputs": [
        {
          "output_type": "stream",
          "text": [
            "4\n"
          ],
          "name": "stdout"
        }
      ]
    },
    {
      "cell_type": "code",
      "metadata": {
        "colab": {
          "base_uri": "https://localhost:8080/"
        },
        "id": "jFNd0YDg9tme",
        "outputId": "707d60b8-33b9-4e78-fdff-8cdf88e6d83d"
      },
      "source": [
        "print(anagrams)"
      ],
      "execution_count": null,
      "outputs": [
        {
          "output_type": "stream",
          "text": [
            "{'evil', 'live'}\n"
          ],
          "name": "stdout"
        }
      ]
    },
    {
      "cell_type": "code",
      "metadata": {
        "id": "GKXla2_Qz2Lx",
        "colab": {
          "base_uri": "https://localhost:8080/"
        },
        "outputId": "bc809871-ea08-491b-d13b-4d0263f3eaca"
      },
      "source": [
        "# Challenge 2\n",
        "# How many items have we stored in our anagrams dictionary?\n",
        "# \n",
        "print(len(anagrams))"
      ],
      "execution_count": null,
      "outputs": [
        {
          "output_type": "stream",
          "text": [
            "2\n"
          ],
          "name": "stdout"
        }
      ]
    },
    {
      "cell_type": "code",
      "metadata": {
        "colab": {
          "base_uri": "https://localhost:8080/"
        },
        "id": "YAWZrZ3QBI1u",
        "outputId": "a25f8b83-6ab2-45a1-d948-ea06d13c0eb8"
      },
      "source": [
        "print(food_packages)"
      ],
      "execution_count": null,
      "outputs": [
        {
          "output_type": "stream",
          "text": [
            "{'bronze_package': {'starch': 'rice', 'stew': 'chicken curry', 'vegetable': 'cabbages', 'desert': 'melon'}, 'silver package': {'starch': 'rice and chapati', 'stew': 'beef curry', 'vegetable': 'spinach', 'desert': 'melon and bananas'}, 'gold package': {'starch': 'rice, chapati and mukimo', 'stew': 'beef curry', 'vegetable': 'spinach, cabbage and managu', 'desert': 'tart'}}\n"
          ],
          "name": "stdout"
        }
      ]
    },
    {
      "cell_type": "code",
      "metadata": {
        "id": "y1Yc0df-z2AG",
        "colab": {
          "base_uri": "https://localhost:8080/"
        },
        "outputId": "2b546c43-78c3-425d-f4c1-add269951154"
      },
      "source": [
        "# Challange 3\n",
        "# Using the cater dictionary, how many meals do we have in our gold package? \n",
        "# \n",
        "print(len(food_packages['gold package']))"
      ],
      "execution_count": null,
      "outputs": [
        {
          "output_type": "stream",
          "text": [
            "4\n"
          ],
          "name": "stdout"
        }
      ]
    },
    {
      "cell_type": "markdown",
      "metadata": {
        "id": "t3HfcEjn306L"
      },
      "source": [
        "## 1.7 Removing Elements from a Dictionary"
      ]
    },
    {
      "cell_type": "code",
      "metadata": {
        "colab": {
          "base_uri": "https://localhost:8080/"
        },
        "id": "dTv_947YCaZT",
        "outputId": "355e8fb9-d3c6-422c-8023-a5b262da8954"
      },
      "source": [
        "print(my_new_friend)"
      ],
      "execution_count": null,
      "outputs": [
        {
          "output_type": "stream",
          "text": [
            "{'name': 'Femi', 'age': 24}\n"
          ],
          "name": "stdout"
        }
      ]
    },
    {
      "cell_type": "code",
      "metadata": {
        "id": "g9zlKoiL7PaV",
        "colab": {
          "base_uri": "https://localhost:8080/"
        },
        "outputId": "de581ee7-8dd9-4826-b624-b139ab0b8d0c"
      },
      "source": [
        "# Example 1\n",
        "# We can remove a specific item from the dictionary \n",
        "# with the specified key name using the pop() method. \n",
        "# The clear() method clears the items in the dictionary \n",
        "# while the del keyword deletes the dictionary completely.\n",
        "\n",
        "\n",
        "# Removing age from my_new_friend dictionary\n",
        "updated_my_new_friend = my_new_friend.pop(\"age\")\n",
        "# printing out the updated dictionary\n",
        "print(updated_my_new_friend)"
      ],
      "execution_count": null,
      "outputs": [
        {
          "output_type": "stream",
          "text": [
            "24\n"
          ],
          "name": "stdout"
        }
      ]
    },
    {
      "cell_type": "code",
      "metadata": {
        "colab": {
          "base_uri": "https://localhost:8080/",
          "height": 244
        },
        "id": "x6tAi5jTCH97",
        "outputId": "e15609f1-ccc0-4729-84bb-ce9fb6ead20b"
      },
      "source": [
        "# now clearing the dictionary \n",
        "updated_my_new_friend.clear()\n",
        "\n",
        "# printing out the cleared dictionary\n",
        "print(updated_my_new_friend)"
      ],
      "execution_count": null,
      "outputs": [
        {
          "output_type": "error",
          "ename": "AttributeError",
          "evalue": "ignored",
          "traceback": [
            "\u001b[0;31m---------------------------------------------------------------------------\u001b[0m",
            "\u001b[0;31mAttributeError\u001b[0m                            Traceback (most recent call last)",
            "\u001b[0;32m<ipython-input-115-411cad070b19>\u001b[0m in \u001b[0;36m<module>\u001b[0;34m()\u001b[0m\n\u001b[1;32m      1\u001b[0m \u001b[0;31m# now clearing the dictionary\u001b[0m\u001b[0;34m\u001b[0m\u001b[0;34m\u001b[0m\u001b[0;34m\u001b[0m\u001b[0m\n\u001b[0;32m----> 2\u001b[0;31m \u001b[0mupdated_my_new_friend\u001b[0m\u001b[0;34m.\u001b[0m\u001b[0mclear\u001b[0m\u001b[0;34m(\u001b[0m\u001b[0;34m)\u001b[0m\u001b[0;34m\u001b[0m\u001b[0;34m\u001b[0m\u001b[0m\n\u001b[0m\u001b[1;32m      3\u001b[0m \u001b[0;34m\u001b[0m\u001b[0m\n\u001b[1;32m      4\u001b[0m \u001b[0;31m# printing out the cleared dictionary\u001b[0m\u001b[0;34m\u001b[0m\u001b[0;34m\u001b[0m\u001b[0;34m\u001b[0m\u001b[0m\n\u001b[1;32m      5\u001b[0m \u001b[0mprint\u001b[0m\u001b[0;34m(\u001b[0m\u001b[0mupdated_my_new_friend\u001b[0m\u001b[0;34m)\u001b[0m\u001b[0;34m\u001b[0m\u001b[0;34m\u001b[0m\u001b[0m\n",
            "\u001b[0;31mAttributeError\u001b[0m: 'int' object has no attribute 'clear'"
          ]
        }
      ]
    },
    {
      "cell_type": "code",
      "metadata": {
        "id": "HS9hAtWCCH7b"
      },
      "source": [
        "# deleting the dictionary completely\n",
        "del updated_my_new_friend"
      ],
      "execution_count": null,
      "outputs": []
    },
    {
      "cell_type": "code",
      "metadata": {
        "colab": {
          "base_uri": "https://localhost:8080/"
        },
        "id": "BSNSTCyzDQKo",
        "outputId": "02576aae-5251-49a4-af92-6cfe2f6ea9dc"
      },
      "source": [
        "print(car)"
      ],
      "execution_count": null,
      "outputs": [
        {
          "output_type": "stream",
          "text": [
            "{'brand': 'Toyota', 'model': 'Prado', 'year': 2007, 'color': 'blue'}\n"
          ],
          "name": "stdout"
        }
      ]
    },
    {
      "cell_type": "code",
      "metadata": {
        "id": "JAKiQ6y97PMq",
        "colab": {
          "base_uri": "https://localhost:8080/"
        },
        "outputId": "208542d2-30fe-49b0-cef7-2011fc26ffa6"
      },
      "source": [
        "# Example 2\n",
        "# Removing model from car dictionary\n",
        "# using the pop method\n",
        "updated_car = car.pop(\"model\")\n",
        "# printing out the updated car dictionary\n",
        "print(updated_car)"
      ],
      "execution_count": null,
      "outputs": [
        {
          "output_type": "stream",
          "text": [
            "Prado\n"
          ],
          "name": "stdout"
        }
      ]
    },
    {
      "cell_type": "code",
      "metadata": {
        "colab": {
          "base_uri": "https://localhost:8080/"
        },
        "id": "uqEbtqnpDlcM",
        "outputId": "794bf60e-4cde-470e-ace4-98cef90b1854"
      },
      "source": [
        "print(car)"
      ],
      "execution_count": null,
      "outputs": [
        {
          "output_type": "stream",
          "text": [
            "{'brand': 'Toyota', 'year': 2007, 'color': 'blue'}\n"
          ],
          "name": "stdout"
        }
      ]
    },
    {
      "cell_type": "code",
      "metadata": {
        "colab": {
          "base_uri": "https://localhost:8080/",
          "height": 244
        },
        "id": "S3p8i1uaDXJ9",
        "outputId": "f58a58ec-cb56-4520-fc9b-4d5f9d29b079"
      },
      "source": [
        "# now clearing the dictionary \n",
        "updated_car.clear()\n",
        "\n",
        "# printing out the cleared dictionary\n",
        "print(updated_car)"
      ],
      "execution_count": null,
      "outputs": [
        {
          "output_type": "error",
          "ename": "AttributeError",
          "evalue": "ignored",
          "traceback": [
            "\u001b[0;31m---------------------------------------------------------------------------\u001b[0m",
            "\u001b[0;31mAttributeError\u001b[0m                            Traceback (most recent call last)",
            "\u001b[0;32m<ipython-input-120-5d112a216e96>\u001b[0m in \u001b[0;36m<module>\u001b[0;34m()\u001b[0m\n\u001b[1;32m      1\u001b[0m \u001b[0;31m# now clearing the dictionary\u001b[0m\u001b[0;34m\u001b[0m\u001b[0;34m\u001b[0m\u001b[0;34m\u001b[0m\u001b[0m\n\u001b[0;32m----> 2\u001b[0;31m \u001b[0mupdated_car\u001b[0m\u001b[0;34m.\u001b[0m\u001b[0mclear\u001b[0m\u001b[0;34m(\u001b[0m\u001b[0;34m)\u001b[0m\u001b[0;34m\u001b[0m\u001b[0;34m\u001b[0m\u001b[0m\n\u001b[0m\u001b[1;32m      3\u001b[0m \u001b[0;34m\u001b[0m\u001b[0m\n\u001b[1;32m      4\u001b[0m \u001b[0;31m# printing out the cleared dictionary\u001b[0m\u001b[0;34m\u001b[0m\u001b[0;34m\u001b[0m\u001b[0;34m\u001b[0m\u001b[0m\n\u001b[1;32m      5\u001b[0m \u001b[0mprint\u001b[0m\u001b[0;34m(\u001b[0m\u001b[0mupdated_car\u001b[0m\u001b[0;34m)\u001b[0m\u001b[0;34m\u001b[0m\u001b[0;34m\u001b[0m\u001b[0m\n",
            "\u001b[0;31mAttributeError\u001b[0m: 'str' object has no attribute 'clear'"
          ]
        }
      ]
    },
    {
      "cell_type": "code",
      "metadata": {
        "colab": {
          "base_uri": "https://localhost:8080/"
        },
        "id": "xUV1FCp7Ds4c",
        "outputId": "434c9ad7-4232-4961-d8ff-560fe2274386"
      },
      "source": [
        "print(updated_car)"
      ],
      "execution_count": null,
      "outputs": [
        {
          "output_type": "stream",
          "text": [
            "Prado\n"
          ],
          "name": "stdout"
        }
      ]
    },
    {
      "cell_type": "code",
      "metadata": {
        "colab": {
          "base_uri": "https://localhost:8080/"
        },
        "id": "W6T_4hRDD0NU",
        "outputId": "50f7809c-6b63-4354-deee-6e05dcdeb5be"
      },
      "source": [
        "print(car)"
      ],
      "execution_count": null,
      "outputs": [
        {
          "output_type": "stream",
          "text": [
            "{}\n"
          ],
          "name": "stdout"
        }
      ]
    },
    {
      "cell_type": "code",
      "metadata": {
        "colab": {
          "base_uri": "https://localhost:8080/"
        },
        "id": "Y2B-KzQ-EM4a",
        "outputId": "09debbf9-c198-44e3-c32f-e1d58e99db10"
      },
      "source": [
        "print(car.clear())"
      ],
      "execution_count": null,
      "outputs": [
        {
          "output_type": "stream",
          "text": [
            "None\n"
          ],
          "name": "stdout"
        }
      ]
    },
    {
      "cell_type": "code",
      "metadata": {
        "id": "lZT9yIfhDYwX"
      },
      "source": [
        "# deleting the dictionary completely\n",
        "del updated_car"
      ],
      "execution_count": null,
      "outputs": []
    },
    {
      "cell_type": "code",
      "metadata": {
        "id": "hJDrF-_i7OzG"
      },
      "source": [
        "# Example 3\n",
        "# Removing School from our_class dictionary\n",
        "\n",
        "# using the pop method\n",
        "our_class.pop(\"School\")\n",
        "\n",
        "# printing out the updated our_class dictionary\n",
        "print(our_class)\n",
        "\n",
        "# now clearing the dictionary \n",
        "our_class.clear()\n",
        "\n",
        "# printing out the cleared dictionary\n",
        "print(our_class)\n",
        "\n",
        "# deleting the dictionary completely\n",
        "del our_class"
      ],
      "execution_count": null,
      "outputs": []
    },
    {
      "cell_type": "markdown",
      "metadata": {
        "id": "ZSQ6Uyb98jUU"
      },
      "source": [
        "### Challenges 1.7"
      ]
    },
    {
      "cell_type": "code",
      "metadata": {
        "colab": {
          "base_uri": "https://localhost:8080/"
        },
        "id": "mw0ixKHUEUJX",
        "outputId": "6268aa04-f915-491f-fe52-05da5281c68f"
      },
      "source": [
        "print(family)"
      ],
      "execution_count": null,
      "outputs": [
        {
          "output_type": "stream",
          "text": [
            "{'father': 'Joseph Mosima', 'mother': 'Norah Makori', 'son': 'Dan Makori', 'daughter': 'Fiorine Cynthia'}\n"
          ],
          "name": "stdout"
        }
      ]
    },
    {
      "cell_type": "code",
      "metadata": {
        "id": "SJv-VzAa8liR"
      },
      "source": [
        "# Challenge 1\n",
        "# Let's delete our family dictionary\n",
        "#\n",
        "del family"
      ],
      "execution_count": null,
      "outputs": []
    },
    {
      "cell_type": "code",
      "metadata": {
        "colab": {
          "base_uri": "https://localhost:8080/",
          "height": 171
        },
        "id": "YS3pFStDEcmL",
        "outputId": "6a862153-9857-4936-8729-829f095da362"
      },
      "source": [
        "print(family)"
      ],
      "execution_count": null,
      "outputs": [
        {
          "output_type": "error",
          "ename": "NameError",
          "evalue": "ignored",
          "traceback": [
            "\u001b[0;31m---------------------------------------------------------------------------\u001b[0m",
            "\u001b[0;31mNameError\u001b[0m                                 Traceback (most recent call last)",
            "\u001b[0;32m<ipython-input-129-647b3f72b59c>\u001b[0m in \u001b[0;36m<module>\u001b[0;34m()\u001b[0m\n\u001b[0;32m----> 1\u001b[0;31m \u001b[0mprint\u001b[0m\u001b[0;34m(\u001b[0m\u001b[0mfamily\u001b[0m\u001b[0;34m)\u001b[0m\u001b[0;34m\u001b[0m\u001b[0;34m\u001b[0m\u001b[0m\n\u001b[0m",
            "\u001b[0;31mNameError\u001b[0m: name 'family' is not defined"
          ]
        }
      ]
    },
    {
      "cell_type": "code",
      "metadata": {
        "colab": {
          "base_uri": "https://localhost:8080/"
        },
        "id": "T05DMgRDEiBw",
        "outputId": "b9a2e3cb-e169-407b-8ad6-55524f4f9fee"
      },
      "source": [
        "print(anagrams)"
      ],
      "execution_count": null,
      "outputs": [
        {
          "output_type": "stream",
          "text": [
            "{'evil', 'live'}\n"
          ],
          "name": "stdout"
        }
      ]
    },
    {
      "cell_type": "code",
      "metadata": {
        "id": "RtPPDlUg8mdN",
        "colab": {
          "base_uri": "https://localhost:8080/"
        },
        "outputId": "99ee4b96-74fb-4234-f3eb-83972e5a2534"
      },
      "source": [
        "# Challenge 2\n",
        "# Let's clear our anagrams dictionary\n",
        "#\n",
        "update_anagrams = anagrams.clear()\n",
        "print(update_anagrams)"
      ],
      "execution_count": null,
      "outputs": [
        {
          "output_type": "stream",
          "text": [
            "None\n"
          ],
          "name": "stdout"
        }
      ]
    },
    {
      "cell_type": "code",
      "metadata": {
        "colab": {
          "base_uri": "https://localhost:8080/"
        },
        "id": "TRiesttAR6Ia",
        "outputId": "d0cfcccd-deae-4ef8-fe52-3eb1c1bd5a70"
      },
      "source": [
        "print(order)"
      ],
      "execution_count": null,
      "outputs": [
        {
          "output_type": "stream",
          "text": [
            "{'Number of bread': 20, 'Number of milk packets': 2, 'Quantity of bread': 2000, 'Quantity of milk packets': 3.0}\n"
          ],
          "name": "stdout"
        }
      ]
    },
    {
      "cell_type": "code",
      "metadata": {
        "colab": {
          "base_uri": "https://localhost:8080/"
        },
        "id": "vseje-D7T_6C",
        "outputId": "5a44e754-ebf1-48f3-cf1c-6b47e2a9bd13"
      },
      "source": [
        "quantity()"
      ],
      "execution_count": null,
      "outputs": [
        {
          "output_type": "stream",
          "text": [
            "Input the number of bread: 6\n",
            "Input the number of milk packets: 8\n",
            "NB: Quantity of bread is in grams and that of milk is in litres\n",
            "{'Number of milk packets': 8, 'Quantity of milk packets': 4.0, 'Number of bread': 6, 'Quantity of bread': 2400}\n",
            "Would you like to input another order?(y/n): n\n",
            "Done\n"
          ],
          "name": "stdout"
        }
      ]
    },
    {
      "cell_type": "code",
      "metadata": {
        "id": "de_1tLbS8mNr",
        "colab": {
          "base_uri": "https://localhost:8080/"
        },
        "outputId": "f1029a25-bef3-4d7f-ffd8-1f8fd566cf4d"
      },
      "source": [
        "# Challenge 3\n",
        "# Let's add another fuctionality to our Naivas Supermarket program\n",
        "# The program will be updated to request the user to whether to delete \n",
        "# any product. If so, the user should perform the deletion respectively.\n",
        "#\n",
        "decision = input(\"Would you like to delete ant product? (y/n): \")\n",
        "if decision == 'y':\n",
        "  bread_decision = input(\"Is it bread? (y/n): \")\n",
        "  if bread_decision == 'y':\n",
        "      order.pop(\"Number of bread\")\n",
        "      order.pop(\"Quantity of bread\")\n",
        "      print(order)\n",
        "  elif bread_decision == 'n':\n",
        "    milk_decision = input(\"Is it milk? (y/n): \")\n",
        "    if milk_decision == 'y': \n",
        "      order.pop(\"Number of milk packets\")\n",
        "      order.pop(\"Quantity of milk packets\")\n",
        "      print(order)\n",
        "    elif milk_decision == 'n':\n",
        "      print(\"No action will be taken\")\n",
        "\n",
        "elif decision == 'n':\n",
        "    print(\"No action will be taken\")\n",
        "    \n",
        "else:\n",
        "    print(\"Use y/n\")"
      ],
      "execution_count": null,
      "outputs": [
        {
          "output_type": "stream",
          "text": [
            "Would you like to delete ant product? (y/n): y\n",
            "Is it bread? (y/n): n\n",
            "Is it milk? (y/n): y\n",
            "{'Number of bread': 6, 'Quantity of bread': 2400}\n"
          ],
          "name": "stdout"
        }
      ]
    }
  ]
}