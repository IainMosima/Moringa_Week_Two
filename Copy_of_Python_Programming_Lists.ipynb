{
  "nbformat": 4,
  "nbformat_minor": 0,
  "metadata": {
    "colab": {
      "name": "Copy of Python Programming: Lists",
      "provenance": [],
      "collapsed_sections": [
        "5WwBTWk58-Nj"
      ]
    },
    "kernelspec": {
      "name": "python3",
      "display_name": "Python 3"
    }
  },
  "cells": [
    {
      "cell_type": "markdown",
      "metadata": {
        "id": "wbJA7xUzEy9k"
      },
      "source": [
        "<font color=\"green\">*To start working on this notebook, or any other notebook that we will use in the Moringa Data Science Course, we will need to save our own copy of it. We can do this by clicking File > Save a Copy in Drive. We will then be able to make edits to our own copy of this notebook.*</font>"
      ]
    },
    {
      "cell_type": "markdown",
      "metadata": {
        "id": "gaWkCnZQ5Sbx"
      },
      "source": [
        "# Python Programming: Lists"
      ]
    },
    {
      "cell_type": "markdown",
      "metadata": {
        "id": "YfJpi7DB5b1G"
      },
      "source": [
        "## 1.0 Creating a List"
      ]
    },
    {
      "cell_type": "code",
      "metadata": {
        "id": "S1JygPfZ6_LB",
        "colab": {
          "base_uri": "https://localhost:8080/"
        },
        "outputId": "88474422-77bb-45e4-ef40-abbdcbc9ff43"
      },
      "source": [
        "# Example 1\n",
        "# Lists can be created by placing a sequence inside square brackets.\n",
        "# They are ordered and changeable and can also contain duplicate items.\n",
        "# We will start to create a list called fruits\n",
        "#\n",
        "fruits = [\"bananas\", \"grapes\", \"mangoes\"]\n",
        "print(fruits)\n",
        "\n",
        "# In python, elements in a list are referenced using indices. Indices (singular: index) are number used to tell the position of an elment in a list. The first element in  a list is assigned an index of 0. \n",
        "# For example in the list we created, bananas is at index 0 and mangoes is at index 2. \n",
        "# Indices are very important especially when we want to update, delete or access items in a list."
      ],
      "execution_count": null,
      "outputs": [
        {
          "output_type": "stream",
          "text": [
            "['bananas', 'grapes', 'mangoes']\n"
          ],
          "name": "stdout"
        }
      ]
    },
    {
      "cell_type": "code",
      "metadata": {
        "id": "VTtUQP6zzVDw",
        "colab": {
          "base_uri": "https://localhost:8080/"
        },
        "outputId": "76bf6701-e00f-4d84-972c-ae6f3ae60b37"
      },
      "source": [
        "# Example 2\n",
        "# We will also create a list called kenyan_football_players\n",
        "#\n",
        "kenyan_football_players = [\"Victor Wanyama\", \"Michael Olunga\", \"McDonald Mariga\"]\n",
        "print(kenyan_football_players)"
      ],
      "execution_count": null,
      "outputs": [
        {
          "output_type": "stream",
          "text": [
            "['Victor Wanyama', 'Michael Olunga', 'McDonald Mariga']\n"
          ],
          "name": "stdout"
        }
      ]
    },
    {
      "cell_type": "code",
      "metadata": {
        "id": "dW9hKVZRzdJv",
        "colab": {
          "base_uri": "https://localhost:8080/"
        },
        "outputId": "adfcb3d3-05ec-4305-e2a7-06808c592a97"
      },
      "source": [
        "# Example 3\n",
        "# And lastly, create a list called kenyan cities\n",
        "#\n",
        "kenyan_cities = [\"Nairobi\", \"Mombasa\", \"Kisumu\"]\n",
        "print(kenyan_cities)"
      ],
      "execution_count": null,
      "outputs": [
        {
          "output_type": "stream",
          "text": [
            "['Nairobi', 'Mombasa', 'Kisumu']\n"
          ],
          "name": "stdout"
        }
      ]
    },
    {
      "cell_type": "markdown",
      "metadata": {
        "id": "m6MMTVzP76zo"
      },
      "source": [
        "### <font color=\"green\">1.1 Challenges</font>"
      ]
    },
    {
      "cell_type": "code",
      "metadata": {
        "id": "0dhSpupB72TX",
        "colab": {
          "base_uri": "https://localhost:8080/"
        },
        "outputId": "07579a49-c927-4dfe-8284-045f1d6822ef"
      },
      "source": [
        "# Challenge 1: \n",
        "# Let's create a list of 3 counties in Kenya and then print out the list below;\n",
        "# \n",
        "counties = [\"Nairobi\", \"Machakos\", \"Kiambu\"]\n",
        "print(counties)"
      ],
      "execution_count": null,
      "outputs": [
        {
          "output_type": "stream",
          "text": [
            "['Nairobi', 'Machakos', 'Kiambu']\n"
          ],
          "name": "stdout"
        }
      ]
    },
    {
      "cell_type": "code",
      "metadata": {
        "id": "yclsB_-Z74U6",
        "colab": {
          "base_uri": "https://localhost:8080/"
        },
        "outputId": "2595face-4f42-4207-9cb6-3026fcd5ed94"
      },
      "source": [
        "# Challenge 2: \n",
        "# Create a list of 5 African presidents and print out the list below;\n",
        "# \n",
        "african_presidents = [\"Uhuru Kenyatta\", \"Evariste Ndayishimeye\", \"Paul Biya\", \"Jorge Carlos Fonseca\", \"Faustin-Archange Touadéra,\"]\n",
        "print(african_presidents)"
      ],
      "execution_count": null,
      "outputs": [
        {
          "output_type": "stream",
          "text": [
            "['Uhuru Kenyatta', 'Evariste Ndayishimeye', 'Paul Biya', 'Jorge Carlos Fonseca', 'Faustin-Archange Touadéra,']\n"
          ],
          "name": "stdout"
        }
      ]
    },
    {
      "cell_type": "code",
      "metadata": {
        "id": "pjqd1Qqf8BRT",
        "colab": {
          "base_uri": "https://localhost:8080/"
        },
        "outputId": "b87753fc-4b8d-4e0f-b1c1-078dcf35bc7f"
      },
      "source": [
        "# Challenge 3: \n",
        "# Create a list of 5 members of your moringa class and print out the list;\n",
        "#\n",
        "Moringa_class_members = [\"Christine Muthee\", \"Alfonce Mwangi\", \"Moreen Maruta\", \"Ian Gathumbi\", \"Njeri Wainaina\"]\n",
        "print(Moringa_class_members)"
      ],
      "execution_count": null,
      "outputs": [
        {
          "output_type": "stream",
          "text": [
            "['Christine Muthee', 'Alfonce Mwangi', 'Moreen Maruta', 'Ian Gathumbi', 'Njeri Wainaina']\n"
          ],
          "name": "stdout"
        }
      ]
    },
    {
      "cell_type": "markdown",
      "metadata": {
        "id": "HKfD8HjY5cmv"
      },
      "source": [
        "## 1.2 Adding Elements to a List"
      ]
    },
    {
      "cell_type": "code",
      "metadata": {
        "id": "TmyVQVnD7cO3",
        "colab": {
          "base_uri": "https://localhost:8080/"
        },
        "outputId": "819c409f-85e8-4362-f048-c47af70a6a0e"
      },
      "source": [
        "# Example 1\n",
        "# We use the append() item to add an element to a list as shown below:\n",
        "# Adding the city Nakuru to the kenyan_cities list \n",
        "#\n",
        "kenyan_cities.append(\"Nakuru\")\n",
        "print(kenyan_cities)"
      ],
      "execution_count": null,
      "outputs": [
        {
          "output_type": "stream",
          "text": [
            "['Nairobi', 'Mombasa', 'Kisumu', 'Nakuru']\n"
          ],
          "name": "stdout"
        }
      ]
    },
    {
      "cell_type": "code",
      "metadata": {
        "id": "Ut93O1NQ0UNa",
        "colab": {
          "base_uri": "https://localhost:8080/"
        },
        "outputId": "5e0e47f7-f7e2-42a8-eacf-68376d90ff3c"
      },
      "source": [
        "# Example 2\n",
        "# We add the county Turkana to our counties list \n",
        "# and print out the list as shown below;\n",
        "#\n",
        "counties.append(\"Turkana\")\n",
        "print(counties)"
      ],
      "execution_count": null,
      "outputs": [
        {
          "output_type": "stream",
          "text": [
            "['Nairobi', 'Machakos', 'Kiambu', 'Turkana']\n"
          ],
          "name": "stdout"
        }
      ]
    },
    {
      "cell_type": "code",
      "metadata": {
        "id": "b9OWSkyh0T-N",
        "colab": {
          "base_uri": "https://localhost:8080/"
        },
        "outputId": "548b0178-14fc-46b4-804e-3dd985fb1c0d"
      },
      "source": [
        "# Example 3\n",
        "# Let's add the footballer Francis Kahata to the \n",
        "# kenyan_football_players list defined above and print out the list\n",
        "#\n",
        "kenyan_football_players.append(\"Francis Kahata\")\n",
        "print(kenyan_football_players)"
      ],
      "execution_count": null,
      "outputs": [
        {
          "output_type": "stream",
          "text": [
            "['Victor Wanyama', 'Michael Olunga', 'McDonald Mariga', 'Francis Kahata']\n"
          ],
          "name": "stdout"
        }
      ]
    },
    {
      "cell_type": "markdown",
      "metadata": {
        "id": "qAB7efGz8GL9"
      },
      "source": [
        "### <font color=\"green\">1.2 Challenges</font>"
      ]
    },
    {
      "cell_type": "code",
      "metadata": {
        "id": "wG25-7Hp8FaS",
        "colab": {
          "base_uri": "https://localhost:8080/"
        },
        "outputId": "55a50885-bc7c-4bec-8839-17ec5d51c61f"
      },
      "source": [
        "# Challenge 1: Add a third county to the county list \n",
        "# that you defined above and then print out the list.\n",
        "# \n",
        "counties.append(\"Kilifi\")\n",
        "print(counties)"
      ],
      "execution_count": null,
      "outputs": [
        {
          "output_type": "stream",
          "text": [
            "['Nairobi', 'Machakos', 'Kiambu', 'Turkana', 'Kilifi']\n"
          ],
          "name": "stdout"
        }
      ]
    },
    {
      "cell_type": "code",
      "metadata": {
        "id": "viPcTuNQ8Kmf",
        "colab": {
          "base_uri": "https://localhost:8080/"
        },
        "outputId": "6b7ca7f3-d2fc-41a9-c5bf-831291506186"
      },
      "source": [
        "# Challenge 2: \n",
        "# Add a fifth and a sixth president to the african presidents \n",
        "# you defined above and print out the list.\n",
        "#\n",
        "african_presidents.append(\"Idriss Déby\")\n",
        "african_presidents.append(\"Ismaïl Omar Guelleh\")\n",
        "print(african_presidents)"
      ],
      "execution_count": null,
      "outputs": [
        {
          "output_type": "stream",
          "text": [
            "['Uhuru Kenyatta', 'Evariste Ndayishimeye', 'Paul Biya', 'Jorge Carlos Fonseca', 'Faustin-Archange Touadéra,', 'Idriss Déby', 'Ismaïl Omar Guelleh']\n"
          ],
          "name": "stdout"
        }
      ]
    },
    {
      "cell_type": "code",
      "metadata": {
        "id": "-xXlnKSX8MeE",
        "colab": {
          "base_uri": "https://localhost:8080/"
        },
        "outputId": "9563bdf3-11a6-4d1c-85a9-f45f66d32aa8"
      },
      "source": [
        "# Challenge 3: \n",
        "# Add two more members to the moringa class list that \n",
        "# you defined above and print out the list.\n",
        "#\n",
        "Moringa_class_members.append(\"Phylis Amai\")\n",
        "Moringa_class_members.append(\"Cyprian Nyakundi\")\n",
        "Moringa_class_members.append(\"Phylis Amai\")\n",
        "print(Moringa_class_members)"
      ],
      "execution_count": null,
      "outputs": [
        {
          "output_type": "stream",
          "text": [
            "['Christine Muthee', 'Alfonce Mwangi', 'Moreen Maruta', 'Ian Gathumbi', 'Njeri Wainaina', 'Phylis Amai', 'Cyprian Nyakundi', 'Phylis Amai']\n"
          ],
          "name": "stdout"
        }
      ]
    },
    {
      "cell_type": "markdown",
      "metadata": {
        "id": "p4UR_FuR5qLx"
      },
      "source": [
        "## 1.3 Updating Elements in a List"
      ]
    },
    {
      "cell_type": "code",
      "metadata": {
        "colab": {
          "base_uri": "https://localhost:8080/"
        },
        "id": "b7Zv1-pb_xhI",
        "outputId": "c7806612-cad2-4b6a-f258-d339163a3696"
      },
      "source": [
        "print(kenyan_cities)"
      ],
      "execution_count": null,
      "outputs": [
        {
          "output_type": "stream",
          "text": [
            "['Nairobi', 'Mombasa', 'Kisumu', 'Nakuru']\n"
          ],
          "name": "stdout"
        }
      ]
    },
    {
      "cell_type": "code",
      "metadata": {
        "id": "sOjwAQdu7q9Y",
        "colab": {
          "base_uri": "https://localhost:8080/"
        },
        "outputId": "7a5224c7-13d8-4a04-c11a-eb0cd204a0fd"
      },
      "source": [
        "# Example 1\n",
        "# The value of a specific item in a list can be changed by referring to the index number as shown;\n",
        "# Let's update the first element in the kenyan_cities list then print it out\n",
        "# \n",
        "kenyan_cities[1] = \"Kwale\"\n",
        "print(kenyan_cities)"
      ],
      "execution_count": null,
      "outputs": [
        {
          "output_type": "stream",
          "text": [
            "['Nairobi', 'Kwale', 'Kisumu', 'Nakuru']\n"
          ],
          "name": "stdout"
        }
      ]
    },
    {
      "cell_type": "code",
      "metadata": {
        "colab": {
          "base_uri": "https://localhost:8080/"
        },
        "id": "oZDaEOws_9TY",
        "outputId": "c7ff52ca-7251-4ab5-878f-b9199317a080"
      },
      "source": [
        "print(kenyan_football_players)"
      ],
      "execution_count": null,
      "outputs": [
        {
          "output_type": "stream",
          "text": [
            "['Victor Wanyama', 'Michael Olunga', 'McDonald Mariga', 'Francis Kahata']\n"
          ],
          "name": "stdout"
        }
      ]
    },
    {
      "cell_type": "code",
      "metadata": {
        "id": "TA8RhFajBl-P",
        "colab": {
          "base_uri": "https://localhost:8080/"
        },
        "outputId": "dffceb8e-0d06-4d82-edf3-80a1be7c125f"
      },
      "source": [
        "# Example 2\n",
        "# Let's update the second element in the kenyan_football_players \n",
        "# list with Musa Mohammed then print out the list\n",
        "#\n",
        "kenyan_football_players[1] = \"Musa Mohammed\"\n",
        "print(kenyan_football_players)"
      ],
      "execution_count": null,
      "outputs": [
        {
          "output_type": "stream",
          "text": [
            "['Victor Wanyama', 'Musa Mohammed', 'McDonald Mariga', 'Francis Kahata']\n"
          ],
          "name": "stdout"
        }
      ]
    },
    {
      "cell_type": "code",
      "metadata": {
        "colab": {
          "base_uri": "https://localhost:8080/"
        },
        "id": "K0wXNPrWAS3x",
        "outputId": "63e14364-e1dc-4bce-e7d3-5322687e355e"
      },
      "source": [
        "print(Moringa_class_members)"
      ],
      "execution_count": null,
      "outputs": [
        {
          "output_type": "stream",
          "text": [
            "['Christine Muthee', 'Alfonce Mwangi', 'Moreen Maruta', 'Ian Gathumbi', 'Njeri Wainaina', 'Phylis Amai', 'Cyprian Nyakundi', 'Phylis Amai']\n"
          ],
          "name": "stdout"
        }
      ]
    },
    {
      "cell_type": "code",
      "metadata": {
        "id": "7OfX19kCBl1b",
        "colab": {
          "base_uri": "https://localhost:8080/"
        },
        "outputId": "343a0567-2066-4072-8c2c-0bb70875c662"
      },
      "source": [
        "# Example 3\n",
        "# Let's update the third element in the moringa \n",
        "# class list with your name then print out the list\n",
        "# \n",
        "Moringa_class_members[2] = \"Iain Mosima\"\n",
        "print(Moringa_class_members)"
      ],
      "execution_count": null,
      "outputs": [
        {
          "output_type": "stream",
          "text": [
            "['Christine Muthee', 'Alfonce Mwangi', 'Iain Mosima', 'Ian Gathumbi', 'Njeri Wainaina', 'Phylis Amai', 'Cyprian Nyakundi', 'Phylis Amai']\n"
          ],
          "name": "stdout"
        }
      ]
    },
    {
      "cell_type": "markdown",
      "metadata": {
        "id": "H3Z5_lcs8XNH"
      },
      "source": [
        "### <font color=\"green\">1.3 Challenges</font>"
      ]
    },
    {
      "cell_type": "code",
      "metadata": {
        "colab": {
          "base_uri": "https://localhost:8080/"
        },
        "id": "ma49KAAeAc7-",
        "outputId": "ef3ae743-379d-41d5-e185-43ec55974b2f"
      },
      "source": [
        "print(counties)"
      ],
      "execution_count": null,
      "outputs": [
        {
          "output_type": "stream",
          "text": [
            "['Nairobi', 'Machakos', 'Kiambu', 'Turkana', 'Kilifi']\n"
          ],
          "name": "stdout"
        }
      ]
    },
    {
      "cell_type": "code",
      "metadata": {
        "id": "dVQ1NNCm8QSb",
        "colab": {
          "base_uri": "https://localhost:8080/"
        },
        "outputId": "0296577d-83bf-4cfe-c8a6-0817b8c25619"
      },
      "source": [
        "# Challenge 1\n",
        "# Update the second county to the county list that \n",
        "# you defined above and then print out the list.\n",
        "# (NB: Update of choice)\n",
        "#\n",
        "counties[1] = \"Muranga\"\n",
        "print(counties)"
      ],
      "execution_count": null,
      "outputs": [
        {
          "output_type": "stream",
          "text": [
            "['Nairobi', 'Muranga', 'Kiambu', 'Turkana', 'Kilifi']\n"
          ],
          "name": "stdout"
        }
      ]
    },
    {
      "cell_type": "code",
      "metadata": {
        "colab": {
          "base_uri": "https://localhost:8080/"
        },
        "id": "U85-y7L5Aths",
        "outputId": "ecaaa61c-7bef-4d55-d8a8-a372791b214c"
      },
      "source": [
        "print(african_presidents)"
      ],
      "execution_count": null,
      "outputs": [
        {
          "output_type": "stream",
          "text": [
            "['Uhuru Kenyatta', 'Evariste Ndayishimeye', 'Paul Biya', 'Jorge Carlos Fonseca', 'Faustin-Archange Touadéra,', 'Idriss Déby', 'Ismaïl Omar Guelleh']\n"
          ],
          "name": "stdout"
        }
      ]
    },
    {
      "cell_type": "code",
      "metadata": {
        "id": "FhFJuVjq8Ros",
        "colab": {
          "base_uri": "https://localhost:8080/"
        },
        "outputId": "c20771c6-8089-435d-eeac-b7e0330b9a34"
      },
      "source": [
        "# Challenge 2\n",
        "# Update the third and fourth president of the african presidents \n",
        "# list that you defined above and then print out the list.\n",
        "# (NB: Update of choice) \n",
        "#\n",
        "african_presidents[2] = \"Abdel Fattah el-Sisi\"\n",
        "african_presidents[3] = \"Isaias Afwerki\"\n",
        "print(african_presidents)"
      ],
      "execution_count": null,
      "outputs": [
        {
          "output_type": "stream",
          "text": [
            "['Uhuru Kenyatta', 'Evariste Ndayishimeye', 'Abdel Fattah el-Sisi', 'Isaias Afwerki', 'Faustin-Archange Touadéra,', 'Idriss Déby', 'Ismaïl Omar Guelleh']\n"
          ],
          "name": "stdout"
        }
      ]
    },
    {
      "cell_type": "code",
      "metadata": {
        "colab": {
          "base_uri": "https://localhost:8080/"
        },
        "id": "I1fEAYtvBS_a",
        "outputId": "b735058f-fc70-4df3-9f8c-0a4c9c73fb5f"
      },
      "source": [
        "print(Moringa_class_members)"
      ],
      "execution_count": null,
      "outputs": [
        {
          "output_type": "stream",
          "text": [
            "['Christine Muthee', 'Alfonce Mwangi', 'Iain Mosima', 'Ian Gathumbi', 'Njeri Wainaina', 'Phylis Amai', 'Cyprian Nyakundi', 'Phylis Amai']\n"
          ],
          "name": "stdout"
        }
      ]
    },
    {
      "cell_type": "code",
      "metadata": {
        "id": "lsUfPEmI8TYI",
        "colab": {
          "base_uri": "https://localhost:8080/"
        },
        "outputId": "fb66841c-5d76-48c5-dbe3-827b0e29a19d"
      },
      "source": [
        "# Challenge 3\n",
        "# Update all items in your class list \n",
        "# that you defined above with a new list and then print out that list. \n",
        "# \n",
        "Moringa_class_members [0] = \"Angelo Sang\"\n",
        "Moringa_class_members [1] = \"Bellah Ellam\"\n",
        "Moringa_class_members [2] = \"Caleb Muinde\"\n",
        "Moringa_class_members [3] = \"Cindy Gachuhi\"\n",
        "Moringa_class_members [4] = \"Claire Muriuku\"\n",
        "Moringa_class_members [5] = \"Cynthia Kerubo\"\n",
        "Moringa_class_members [6] = \"Jabin Oweggi\"\n",
        "print(Moringa_class_members)"
      ],
      "execution_count": null,
      "outputs": [
        {
          "output_type": "stream",
          "text": [
            "['Angelo Sang', 'Bellah Ellam', 'Caleb Muinde', 'Cindy Gachuhi', 'Claire Muriuku', 'Cynthia Kerubo', 'Jabin Oweggi', 'Phylis Amai']\n"
          ],
          "name": "stdout"
        }
      ]
    },
    {
      "cell_type": "markdown",
      "metadata": {
        "id": "cCvsMHqK5fUn"
      },
      "source": [
        "## 1.4 Accessing Elements from a List"
      ]
    },
    {
      "cell_type": "code",
      "metadata": {
        "colab": {
          "base_uri": "https://localhost:8080/"
        },
        "id": "I0oZsEq_CRCl",
        "outputId": "39b62617-0a50-4a21-cf67-5c670b87438b"
      },
      "source": [
        "print(fruits)"
      ],
      "execution_count": null,
      "outputs": [
        {
          "output_type": "stream",
          "text": [
            "['bananas', 'grapes', 'mangoes']\n"
          ],
          "name": "stdout"
        }
      ]
    },
    {
      "cell_type": "code",
      "metadata": {
        "id": "pGn2Ei-L8lh4",
        "colab": {
          "base_uri": "https://localhost:8080/"
        },
        "outputId": "cfcc4934-fe96-4665-f41b-a6b066dc4ee7"
      },
      "source": [
        "# Example 1\n",
        "# We can access the first item in the fruits list by doing the following\n",
        "# \n",
        "fruts_first_item = fruits[0]\n",
        "print(fruts_first_item)"
      ],
      "execution_count": null,
      "outputs": [
        {
          "output_type": "stream",
          "text": [
            "bananas\n"
          ],
          "name": "stdout"
        }
      ]
    },
    {
      "cell_type": "code",
      "metadata": {
        "colab": {
          "base_uri": "https://localhost:8080/"
        },
        "id": "wMrDibu3CT38",
        "outputId": "6696b36b-c1e2-48c0-88b2-99ffedf17e88"
      },
      "source": [
        "print(kenyan_football_players)"
      ],
      "execution_count": null,
      "outputs": [
        {
          "output_type": "stream",
          "text": [
            "['Victor Wanyama', 'Musa Mohammed', 'McDonald Mariga', 'Francis Kahata']\n"
          ],
          "name": "stdout"
        }
      ]
    },
    {
      "cell_type": "code",
      "metadata": {
        "id": "iTvwuuY219PO",
        "colab": {
          "base_uri": "https://localhost:8080/"
        },
        "outputId": "ea1a6863-59ad-464f-98b1-2c5a935d43a2"
      },
      "source": [
        "# Example 2\n",
        "# We can also access the 2nd item in the kenyan_football_players list by;\n",
        "#\n",
        "kenyan_football_players_second_item = kenyan_football_players[1]\n",
        "print(kenyan_football_players_second_item)"
      ],
      "execution_count": null,
      "outputs": [
        {
          "output_type": "stream",
          "text": [
            "Musa Mohammed\n"
          ],
          "name": "stdout"
        }
      ]
    },
    {
      "cell_type": "code",
      "metadata": {
        "colab": {
          "base_uri": "https://localhost:8080/"
        },
        "id": "tanOBPzTCi0p",
        "outputId": "045d8de3-ceb7-42d9-af5d-b37bdfdda1e0"
      },
      "source": [
        "print(Moringa_class_members)"
      ],
      "execution_count": null,
      "outputs": [
        {
          "output_type": "stream",
          "text": [
            "['Angelo Sang', 'Bellah Ellam', 'Caleb Muinde', 'Cindy Gachuhi', 'Claire Muriuku', 'Cynthia Kerubo', 'Jabin Oweggi', 'Phylis Amai']\n"
          ],
          "name": "stdout"
        }
      ]
    },
    {
      "cell_type": "code",
      "metadata": {
        "id": "lVAhEI_G2IAN",
        "colab": {
          "base_uri": "https://localhost:8080/"
        },
        "outputId": "fb4651a5-8dd5-43df-b5ca-a61306fa5243"
      },
      "source": [
        "# Example 3\n",
        "# We can access the third item in the moringa_class list also by\n",
        "#\n",
        "Moringa_class_members_second_item = Moringa_class_members[2]\n",
        "print(Moringa_class_members_second_item)"
      ],
      "execution_count": null,
      "outputs": [
        {
          "output_type": "stream",
          "text": [
            "Caleb Muinde\n"
          ],
          "name": "stdout"
        }
      ]
    },
    {
      "cell_type": "markdown",
      "metadata": {
        "id": "1qG1ecRh8mC9"
      },
      "source": [
        "### <font color=\"green\">1.4 Challenges</font>"
      ]
    },
    {
      "cell_type": "code",
      "metadata": {
        "colab": {
          "base_uri": "https://localhost:8080/"
        },
        "id": "KWSq5x2fCt48",
        "outputId": "6d606daf-8e12-44fb-a56b-67426ba6e9c6"
      },
      "source": [
        "print(fruits)"
      ],
      "execution_count": null,
      "outputs": [
        {
          "output_type": "stream",
          "text": [
            "['bananas', 'grapes', 'mangoes']\n"
          ],
          "name": "stdout"
        }
      ]
    },
    {
      "cell_type": "code",
      "metadata": {
        "id": "JVE1OqDH8pEK",
        "colab": {
          "base_uri": "https://localhost:8080/"
        },
        "outputId": "c8aaa279-f23d-4b69-dc1e-3c5d5f863ae9"
      },
      "source": [
        "# Challenge 1\n",
        "# Let's access the second item in the fruits list below\n",
        "#\n",
        "fruit_second_item = fruits[1]\n",
        "print(fruit_second_item)"
      ],
      "execution_count": null,
      "outputs": [
        {
          "output_type": "stream",
          "text": [
            "grapes\n"
          ],
          "name": "stdout"
        }
      ]
    },
    {
      "cell_type": "code",
      "metadata": {
        "colab": {
          "base_uri": "https://localhost:8080/"
        },
        "id": "_tM7GsIGC7_V",
        "outputId": "4915c7c7-f14f-4246-953b-539b9974ebea"
      },
      "source": [
        "print(kenyan_football_players)"
      ],
      "execution_count": null,
      "outputs": [
        {
          "output_type": "stream",
          "text": [
            "['Victor Wanyama', 'Musa Mohammed', 'McDonald Mariga', 'Francis Kahata']\n"
          ],
          "name": "stdout"
        }
      ]
    },
    {
      "cell_type": "code",
      "metadata": {
        "id": "Caul6cU18o9c",
        "colab": {
          "base_uri": "https://localhost:8080/"
        },
        "outputId": "855b8853-dca0-42b7-c21a-32435db3e366"
      },
      "source": [
        "# Challenge 2\n",
        "# Let's access the fourth item in kenyan_football_players list below\n",
        "#\n",
        "kenyan_football_players_fourth_player = kenyan_football_players[3]\n",
        "print(kenyan_football_players_fourth_player)"
      ],
      "execution_count": null,
      "outputs": [
        {
          "output_type": "stream",
          "text": [
            "Francis Kahata\n"
          ],
          "name": "stdout"
        }
      ]
    },
    {
      "cell_type": "code",
      "metadata": {
        "colab": {
          "base_uri": "https://localhost:8080/"
        },
        "id": "loQk9nocDEtU",
        "outputId": "1179a0cc-9ba6-41f4-ca3d-9714c3ba79ea"
      },
      "source": [
        "print(Moringa_class_members)"
      ],
      "execution_count": null,
      "outputs": [
        {
          "output_type": "stream",
          "text": [
            "['Angelo Sang', 'Bellah Ellam', 'Caleb Muinde', 'Cindy Gachuhi', 'Claire Muriuku', 'Cynthia Kerubo', 'Jabin Oweggi', 'Phylis Amai']\n"
          ],
          "name": "stdout"
        }
      ]
    },
    {
      "cell_type": "code",
      "metadata": {
        "id": "xjX0moYs8ooP",
        "colab": {
          "base_uri": "https://localhost:8080/"
        },
        "outputId": "2b9e511f-fb00-4ee5-f499-a8e1eaed41a9"
      },
      "source": [
        "# Challenge 3\n",
        "# Let's access the first item in your class list below;\n",
        "#\n",
        "Moringa_class_members_first_member = Moringa_class_members[0]\n",
        "print(Moringa_class_members)"
      ],
      "execution_count": null,
      "outputs": [
        {
          "output_type": "stream",
          "text": [
            "['Angelo Sang', 'Bellah Ellam', 'Caleb Muinde', 'Cindy Gachuhi', 'Claire Muriuku', 'Cynthia Kerubo', 'Jabin Oweggi', 'Phylis Amai']\n"
          ],
          "name": "stdout"
        }
      ]
    },
    {
      "cell_type": "markdown",
      "metadata": {
        "id": "Fs8XTeN45iFS"
      },
      "source": [
        "## 1.5 Removing Elements from a List"
      ]
    },
    {
      "cell_type": "code",
      "metadata": {
        "colab": {
          "base_uri": "https://localhost:8080/"
        },
        "id": "gjaVgBw-DRw0",
        "outputId": "5cdaf5f4-cdef-4d5c-e17e-89a8834c9d8b"
      },
      "source": [
        "print(fruits)"
      ],
      "execution_count": null,
      "outputs": [
        {
          "output_type": "stream",
          "text": [
            "['bananas', 'grapes', 'mangoes']\n"
          ],
          "name": "stdout"
        }
      ]
    },
    {
      "cell_type": "code",
      "metadata": {
        "id": "mkNRpT2k8zbi",
        "colab": {
          "base_uri": "https://localhost:8080/"
        },
        "outputId": "4eb58dec-eb67-421e-e79b-d84bc6c42a0d"
      },
      "source": [
        "# Example 1\n",
        "# Let's remove the first item from the fruits list as shown;\n",
        "#\n",
        "fruits.remove(\"bananas\")\n",
        "print(fruits)"
      ],
      "execution_count": null,
      "outputs": [
        {
          "output_type": "stream",
          "text": [
            "['grapes', 'mangoes']\n"
          ],
          "name": "stdout"
        }
      ]
    },
    {
      "cell_type": "code",
      "metadata": {
        "colab": {
          "base_uri": "https://localhost:8080/"
        },
        "id": "qX8oxbqXDVoi",
        "outputId": "a52f6769-5edf-4ac9-8d27-27508e57568f"
      },
      "source": [
        "print(kenyan_cities)"
      ],
      "execution_count": null,
      "outputs": [
        {
          "output_type": "stream",
          "text": [
            "['Nairobi', 'Kwale', 'Kisumu', 'Nakuru']\n"
          ],
          "name": "stdout"
        }
      ]
    },
    {
      "cell_type": "code",
      "metadata": {
        "id": "9EF5YrosFV5n",
        "colab": {
          "base_uri": "https://localhost:8080/"
        },
        "outputId": "dd4f6de2-f582-4ca2-d414-afc4e6e009b4"
      },
      "source": [
        "# Example 2\n",
        "# Then remove the third item from the kenyan cities list as shown;\n",
        "#\n",
        "del kenyan_cities[2];\n",
        "print(kenyan_cities)"
      ],
      "execution_count": null,
      "outputs": [
        {
          "output_type": "stream",
          "text": [
            "['Nairobi', 'Kwale', 'Nakuru']\n"
          ],
          "name": "stdout"
        }
      ]
    },
    {
      "cell_type": "code",
      "metadata": {
        "colab": {
          "base_uri": "https://localhost:8080/"
        },
        "id": "LuNQzV2tDbrU",
        "outputId": "b0385867-d9ab-4a2a-f37c-6258f801abfa"
      },
      "source": [
        "print(counties)"
      ],
      "execution_count": null,
      "outputs": [
        {
          "output_type": "stream",
          "text": [
            "['Nairobi', 'Muranga', 'Kiambu', 'Turkana', 'Kilifi']\n"
          ],
          "name": "stdout"
        }
      ]
    },
    {
      "cell_type": "code",
      "metadata": {
        "id": "-zwxINb9FVvE",
        "colab": {
          "base_uri": "https://localhost:8080/"
        },
        "outputId": "bbb0e416-6192-4cff-ba9d-5eef9bcd34c9"
      },
      "source": [
        "# Example 3\n",
        "# Let's remove the fourth item from counties list as shown;\n",
        "#\n",
        "del counties[3]\n",
        "print(counties)"
      ],
      "execution_count": null,
      "outputs": [
        {
          "output_type": "stream",
          "text": [
            "['Nairobi', 'Muranga', 'Kiambu', 'Kilifi']\n"
          ],
          "name": "stdout"
        }
      ]
    },
    {
      "cell_type": "markdown",
      "metadata": {
        "id": "SJmtZJu48z-Q"
      },
      "source": [
        "### <font color=\"green\">1.5 Challenges</font>"
      ]
    },
    {
      "cell_type": "code",
      "metadata": {
        "colab": {
          "base_uri": "https://localhost:8080/"
        },
        "id": "J2OqOF1lDoq-",
        "outputId": "61f6b0bc-382a-4fc4-d671-bcebf54257a0"
      },
      "source": [
        "print(kenyan_football_players)"
      ],
      "execution_count": null,
      "outputs": [
        {
          "output_type": "stream",
          "text": [
            "['Victor Wanyama', 'Musa Mohammed', 'McDonald Mariga', 'Francis Kahata']\n"
          ],
          "name": "stdout"
        }
      ]
    },
    {
      "cell_type": "code",
      "metadata": {
        "id": "d1AxSTu883KJ",
        "colab": {
          "base_uri": "https://localhost:8080/"
        },
        "outputId": "9bdbe1c7-e51d-45e0-88b3-08cf37bb1e10"
      },
      "source": [
        "# Challenge 1 \n",
        "# Remove the first item from the kenya_football_players list \n",
        "# and print the list\n",
        "#\n",
        "del kenyan_football_players[0]\n",
        "print(kenyan_football_players)"
      ],
      "execution_count": null,
      "outputs": [
        {
          "output_type": "stream",
          "text": [
            "['Musa Mohammed', 'McDonald Mariga', 'Francis Kahata']\n"
          ],
          "name": "stdout"
        }
      ]
    },
    {
      "cell_type": "code",
      "metadata": {
        "colab": {
          "base_uri": "https://localhost:8080/"
        },
        "id": "p6LIyb2QD1nA",
        "outputId": "db5bbf53-1fcd-42fe-dcfc-616bb888b899"
      },
      "source": [
        "print(fruits)"
      ],
      "execution_count": null,
      "outputs": [
        {
          "output_type": "stream",
          "text": [
            "['grapes', 'mangoes']\n"
          ],
          "name": "stdout"
        }
      ]
    },
    {
      "cell_type": "code",
      "metadata": {
        "id": "s7iTn8tf83kI",
        "colab": {
          "base_uri": "https://localhost:8080/"
        },
        "outputId": "ef097a80-323b-4878-b41c-ce5bf91c4be7"
      },
      "source": [
        "# Challenge 2\n",
        "# Remove the second item from the fruits list and print the list\n",
        "#\n",
        "del fruits[1]\n",
        "print(fruits)"
      ],
      "execution_count": null,
      "outputs": [
        {
          "output_type": "stream",
          "text": [
            "['grapes']\n"
          ],
          "name": "stdout"
        }
      ]
    },
    {
      "cell_type": "code",
      "metadata": {
        "colab": {
          "base_uri": "https://localhost:8080/"
        },
        "id": "OverPc9gEA54",
        "outputId": "641b9d45-6927-4aaf-f48f-9a01efb68870"
      },
      "source": [
        "print(african_presidents)"
      ],
      "execution_count": null,
      "outputs": [
        {
          "output_type": "stream",
          "text": [
            "['Uhuru Kenyatta', 'Evariste Ndayishimeye', 'Abdel Fattah el-Sisi', 'Isaias Afwerki', 'Faustin-Archange Touadéra,', 'Idriss Déby', 'Ismaïl Omar Guelleh']\n"
          ],
          "name": "stdout"
        }
      ]
    },
    {
      "cell_type": "code",
      "metadata": {
        "id": "EpEg6eWS83c4",
        "colab": {
          "base_uri": "https://localhost:8080/"
        },
        "outputId": "51cf9541-f0ec-443c-9402-b54ef94d14aa"
      },
      "source": [
        "# Challenge 3 \n",
        "# Remove the last item from the african presidents list and print the list\n",
        "#\n",
        "del african_presidents[6]\n",
        "print(african_presidents)"
      ],
      "execution_count": null,
      "outputs": [
        {
          "output_type": "stream",
          "text": [
            "['Uhuru Kenyatta', 'Evariste Ndayishimeye', 'Abdel Fattah el-Sisi', 'Isaias Afwerki', 'Faustin-Archange Touadéra,', 'Idriss Déby']\n"
          ],
          "name": "stdout"
        }
      ]
    },
    {
      "cell_type": "markdown",
      "metadata": {
        "id": "QIPUN0KJ5mdp"
      },
      "source": [
        "## 1.6 Slicing a List"
      ]
    },
    {
      "cell_type": "code",
      "metadata": {
        "id": "mX4ZZyjM89tX",
        "colab": {
          "base_uri": "https://localhost:8080/"
        },
        "outputId": "84588ddb-e732-4818-d897-ad05b2dd1f0b"
      },
      "source": [
        "# Example 1\n",
        "# We can print the first two item of the fruits list by slicing and printing them as shown;\n",
        "# The syntax for slicing is start:stop\n",
        "# Start is the index at which we want to start our slice.\n",
        "# Stop is the index at which we want to stop just before finishing the slice. The slicing stops at index stop-1. For exampl, if stop is 2, then the slicing will stop at index (2-1)\n",
        "# \n",
        "fruits = [\"bananas\", \"grapes\", \"mangoes\",\"oranges\",\"pineapple\"]\n",
        "fruits1 = fruits[0:3] \n",
        "print(fruits1)"
      ],
      "execution_count": null,
      "outputs": [
        {
          "output_type": "stream",
          "text": [
            "['bananas', 'grapes', 'mangoes']\n"
          ],
          "name": "stdout"
        }
      ]
    },
    {
      "cell_type": "code",
      "metadata": {
        "id": "HjMaEseYKTG_",
        "colab": {
          "base_uri": "https://localhost:8080/"
        },
        "outputId": "0799c084-c1e9-4b8b-9f1a-dac325778d56"
      },
      "source": [
        "# Example 2\n",
        "# We can print the items from the 2nd item till the end by slicing and printing them as shown;\n",
        "# \n",
        "fruits2 = fruits[2:]\n",
        "print(fruits2)"
      ],
      "execution_count": null,
      "outputs": [
        {
          "output_type": "stream",
          "text": [
            "['mangoes', 'oranges', 'pineapple']\n"
          ],
          "name": "stdout"
        }
      ]
    },
    {
      "cell_type": "code",
      "metadata": {
        "id": "Vx32wP6_KS8E",
        "colab": {
          "base_uri": "https://localhost:8080/"
        },
        "outputId": "223ac978-1c76-473f-d684-f3cbbebc818b"
      },
      "source": [
        "# Example 3\n",
        "# We can print items from beginning of the list to the third element in the fruits list as shown;\n",
        "#\n",
        "fruits3 = fruits[:-2]\n",
        "print(fruits3)"
      ],
      "execution_count": null,
      "outputs": [
        {
          "output_type": "stream",
          "text": [
            "['bananas', 'grapes', 'mangoes']\n"
          ],
          "name": "stdout"
        }
      ]
    },
    {
      "cell_type": "markdown",
      "metadata": {
        "id": "5WwBTWk58-Nj"
      },
      "source": [
        "### <font color=\"green\">1.6 Challenges</font>"
      ]
    },
    {
      "cell_type": "code",
      "metadata": {
        "colab": {
          "base_uri": "https://localhost:8080/"
        },
        "id": "lftTPn4KHBtp",
        "outputId": "a3958713-1cd9-40c4-9647-12aa4e73c267"
      },
      "source": [
        "print(kenyan_football_players)"
      ],
      "execution_count": null,
      "outputs": [
        {
          "output_type": "stream",
          "text": [
            "['Musa Mohammed', 'McDonald Mariga', 'Francis Kahata']\n"
          ],
          "name": "stdout"
        }
      ]
    },
    {
      "cell_type": "code",
      "metadata": {
        "id": "aBfzUTyF9BSb",
        "colab": {
          "base_uri": "https://localhost:8080/"
        },
        "outputId": "4e4e203c-4272-412b-987b-3545563ad9ba"
      },
      "source": [
        "# Challenge 1 \n",
        "# Print the first two items of the kenyan_football_players list\n",
        "# \n",
        "print(kenyan_football_players[:-1])"
      ],
      "execution_count": null,
      "outputs": [
        {
          "output_type": "stream",
          "text": [
            "['Musa Mohammed', 'McDonald Mariga']\n"
          ],
          "name": "stdout"
        }
      ]
    },
    {
      "cell_type": "code",
      "metadata": {
        "colab": {
          "base_uri": "https://localhost:8080/"
        },
        "id": "Lr2Q8zq6HKvt",
        "outputId": "5f13716e-07c2-4ceb-cd6c-b16167e29b60"
      },
      "source": [
        "print(counties)"
      ],
      "execution_count": null,
      "outputs": [
        {
          "output_type": "stream",
          "text": [
            "['Nairobi', 'Muranga', 'Kiambu', 'Kilifi']\n"
          ],
          "name": "stdout"
        }
      ]
    },
    {
      "cell_type": "code",
      "metadata": {
        "id": "Lrq8KFE49Bq5",
        "colab": {
          "base_uri": "https://localhost:8080/"
        },
        "outputId": "85edc77c-607a-4989-ce66-bbb6fe62a8fc"
      },
      "source": [
        "# Challenge 2 \n",
        "# Print the last two items of the counties list\n",
        "# \n",
        "print(counties[2:4])"
      ],
      "execution_count": null,
      "outputs": [
        {
          "output_type": "stream",
          "text": [
            "['Kiambu', 'Kilifi']\n"
          ],
          "name": "stdout"
        }
      ]
    },
    {
      "cell_type": "code",
      "metadata": {
        "colab": {
          "base_uri": "https://localhost:8080/"
        },
        "id": "ILgep2FiHx60",
        "outputId": "fa255f82-e474-40b7-cb7b-1928eadf6b7b"
      },
      "source": [
        "print(kenyan_cities)"
      ],
      "execution_count": null,
      "outputs": [
        {
          "output_type": "stream",
          "text": [
            "['Nairobi', 'Kwale', 'Nakuru']\n"
          ],
          "name": "stdout"
        }
      ]
    },
    {
      "cell_type": "code",
      "metadata": {
        "id": "Smtu0V519Bke",
        "colab": {
          "base_uri": "https://localhost:8080/"
        },
        "outputId": "eb8d341c-3568-49d4-a43b-92deef9cfb62"
      },
      "source": [
        "# Challenge 3 \n",
        "# Print items fron the beginning to the second items in the kenyan_cities list\n",
        "# \n",
        "print(kenyan_cities[0:2])"
      ],
      "execution_count": null,
      "outputs": [
        {
          "output_type": "stream",
          "text": [
            "['Nairobi', 'Kwale']\n"
          ],
          "name": "stdout"
        }
      ]
    }
  ]
}