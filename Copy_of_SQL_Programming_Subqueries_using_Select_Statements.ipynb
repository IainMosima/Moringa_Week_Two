{
  "nbformat": 4,
  "nbformat_minor": 0,
  "metadata": {
    "colab": {
      "name": "Copy of SQL Programming -  Subqueries using Select Statements",
      "provenance": [],
      "collapsed_sections": []
    },
    "kernelspec": {
      "name": "python3",
      "display_name": "Python 3"
    }
  },
  "cells": [
    {
      "cell_type": "markdown",
      "metadata": {
        "id": "v7SpgjvSlIoR"
      },
      "source": [
        "<font color=\"green\">*To start working on this notebook, or any other notebook that we will use in the Moringa Data Science Course, we will need to save our own copy of it. We can do this by clicking File > Save a Copy in Drive. We will then be able to make edits to our own copy of this notebook.*</font>"
      ]
    },
    {
      "cell_type": "markdown",
      "metadata": {
        "id": "LtFx0bBdlL-n"
      },
      "source": [
        "# SQL Programming - Subqueries using Select Statements"
      ]
    },
    {
      "cell_type": "markdown",
      "metadata": {
        "id": "mlCS9-zslSwf"
      },
      "source": [
        "## 1.0 Connecting to our Database"
      ]
    },
    {
      "cell_type": "code",
      "metadata": {
        "id": "cEeocMxvnZwS",
        "colab": {
          "base_uri": "https://localhost:8080/",
          "height": 35
        },
        "outputId": "ee45a3d0-a324-4624-f864-4c44a764a9d3"
      },
      "source": [
        "# We will first load the sql extension into our environment\n",
        "%load_ext sql\n",
        "\n",
        "# Then connect to our in memory sqlite database\n",
        "# NB: This database will cease to exist as soon as the database connection is closed. \n",
        "%sql sqlite://"
      ],
      "execution_count": null,
      "outputs": [
        {
          "output_type": "execute_result",
          "data": {
            "application/vnd.google.colaboratory.intrinsic+json": {
              "type": "string"
            },
            "text/plain": [
              "'Connected: @None'"
            ]
          },
          "metadata": {
            "tags": []
          },
          "execution_count": 1
        }
      ]
    },
    {
      "cell_type": "markdown",
      "metadata": {
        "id": "lLI1zQYqlVlt"
      },
      "source": [
        "## 1.1 Loading Data from CSV Files"
      ]
    },
    {
      "cell_type": "markdown",
      "metadata": {
        "id": "tNUsWoeTWn_f"
      },
      "source": [
        "Datasets used in this notebook:\n",
        "\n",
        "\n",
        "1.   **World Countries**\n",
        "\n",
        "> ([Dataset Download Link](https://drive.google.com/a/moringaschool.com/file/d/1XlabneVWhvbmpRUi_Wix2FR5uYAAp-ZY/view?usp=sharing))\n",
        "\n",
        "2.   **World Cities** \n",
        "\n",
        "> ([Dataset Download Link](https://drive.google.com/a/moringaschool.com/file/d/1R5952m-8hH91uiwDK8dcL9sT2D_PEcuw/view?usp=sharing))\n",
        "\n",
        "\n",
        "\n",
        "\n"
      ]
    },
    {
      "cell_type": "code",
      "metadata": {
        "id": "jryiwN6GiqoT"
      },
      "source": [
        "# Importing Pandas\n",
        "import pandas as pd"
      ],
      "execution_count": null,
      "outputs": []
    },
    {
      "cell_type": "code",
      "metadata": {
        "id": "gnuy0grfirgn",
        "colab": {
          "base_uri": "https://localhost:8080/",
          "height": 236
        },
        "outputId": "8f6b22c0-e616-43f6-9e91-48b24f4d50e8"
      },
      "source": [
        "# Loading our Countries dataset\n",
        "# \n",
        "with open('/content/world_countries.csv','r') as f:\n",
        "    Countries = pd.read_csv(f, index_col=0, encoding='utf-8')\n",
        "%sql DROP TABLE IF EXISTS Countries;\n",
        "%sql PERSIST Countries;\n",
        "%sql SELECT * FROM Countries LIMIT 5;"
      ],
      "execution_count": null,
      "outputs": [
        {
          "output_type": "stream",
          "text": [
            " * sqlite://\n",
            "Done.\n",
            " * sqlite://\n",
            " * sqlite://\n",
            "Done.\n"
          ],
          "name": "stdout"
        },
        {
          "output_type": "execute_result",
          "data": {
            "text/html": [
              "<table>\n",
              "    <thead>\n",
              "        <tr>\n",
              "            <th>country</th>\n",
              "            <th>population</th>\n",
              "            <th>EU</th>\n",
              "            <th>coastline</th>\n",
              "        </tr>\n",
              "    </thead>\n",
              "    <tbody>\n",
              "        <tr>\n",
              "            <td>Albania</td>\n",
              "            <td>2.9</td>\n",
              "            <td>no</td>\n",
              "            <td>yes</td>\n",
              "        </tr>\n",
              "        <tr>\n",
              "            <td>Andorra</td>\n",
              "            <td>0.07</td>\n",
              "            <td>no</td>\n",
              "            <td>no</td>\n",
              "        </tr>\n",
              "        <tr>\n",
              "            <td>Austria</td>\n",
              "            <td>8.57</td>\n",
              "            <td>yes</td>\n",
              "            <td>no</td>\n",
              "        </tr>\n",
              "        <tr>\n",
              "            <td>Belarus</td>\n",
              "            <td>9.48</td>\n",
              "            <td>no</td>\n",
              "            <td>no</td>\n",
              "        </tr>\n",
              "        <tr>\n",
              "            <td>Belgium</td>\n",
              "            <td>11.37</td>\n",
              "            <td>yes</td>\n",
              "            <td>yes</td>\n",
              "        </tr>\n",
              "    </tbody>\n",
              "</table>"
            ],
            "text/plain": [
              "[('Albania', 2.9, 'no', 'yes'),\n",
              " ('Andorra', 0.07, 'no', 'no'),\n",
              " ('Austria', 8.57, 'yes', 'no'),\n",
              " ('Belarus', 9.48, 'no', 'no'),\n",
              " ('Belgium', 11.37, 'yes', 'yes')]"
            ]
          },
          "metadata": {
            "tags": []
          },
          "execution_count": 4
        }
      ]
    },
    {
      "cell_type": "code",
      "metadata": {
        "id": "Nl8AVi1OyUmm",
        "colab": {
          "base_uri": "https://localhost:8080/",
          "height": 236
        },
        "outputId": "5b848a78-fa35-4287-9a8b-75cf387c54c7"
      },
      "source": [
        "# Loading our cities dataset \n",
        "# \n",
        "with open('/content/world_cities.csv','r') as f:\n",
        "    cities = pd.read_csv(f, index_col=0, encoding='utf-8')\n",
        "%sql DROP TABLE IF EXISTS cities;\n",
        "%sql PERSIST cities;\n",
        "%sql SELECT * FROM cities LIMIT 5;"
      ],
      "execution_count": null,
      "outputs": [
        {
          "output_type": "stream",
          "text": [
            " * sqlite://\n",
            "Done.\n",
            " * sqlite://\n",
            " * sqlite://\n",
            "Done.\n"
          ],
          "name": "stdout"
        },
        {
          "output_type": "execute_result",
          "data": {
            "text/html": [
              "<table>\n",
              "    <thead>\n",
              "        <tr>\n",
              "            <th>city</th>\n",
              "            <th>country</th>\n",
              "            <th>latitude</th>\n",
              "            <th>longitude</th>\n",
              "            <th>temperature</th>\n",
              "        </tr>\n",
              "    </thead>\n",
              "    <tbody>\n",
              "        <tr>\n",
              "            <td>Aalborg</td>\n",
              "            <td>Denmark</td>\n",
              "            <td>57.03</td>\n",
              "            <td>9.92</td>\n",
              "            <td>7.52</td>\n",
              "        </tr>\n",
              "        <tr>\n",
              "            <td>Aberdeen</td>\n",
              "            <td>United Kingdom</td>\n",
              "            <td>57.17</td>\n",
              "            <td>-2.08</td>\n",
              "            <td>8.1</td>\n",
              "        </tr>\n",
              "        <tr>\n",
              "            <td>Abisko</td>\n",
              "            <td>Sweden</td>\n",
              "            <td>63.35</td>\n",
              "            <td>18.83</td>\n",
              "            <td>0.2</td>\n",
              "        </tr>\n",
              "        <tr>\n",
              "            <td>Adana</td>\n",
              "            <td>Turkey</td>\n",
              "            <td>36.99</td>\n",
              "            <td>35.32</td>\n",
              "            <td>18.67</td>\n",
              "        </tr>\n",
              "        <tr>\n",
              "            <td>Albacete</td>\n",
              "            <td>Spain</td>\n",
              "            <td>39.0</td>\n",
              "            <td>-1.87</td>\n",
              "            <td>12.62</td>\n",
              "        </tr>\n",
              "    </tbody>\n",
              "</table>"
            ],
            "text/plain": [
              "[('Aalborg', 'Denmark', 57.03, 9.92, 7.52),\n",
              " ('Aberdeen', 'United Kingdom', 57.17, -2.08, 8.1),\n",
              " ('Abisko', 'Sweden', 63.35, 18.83, 0.2),\n",
              " ('Adana', 'Turkey', 36.99, 35.32, 18.67),\n",
              " ('Albacete', 'Spain', 39.0, -1.87, 12.62)]"
            ]
          },
          "metadata": {
            "tags": []
          },
          "execution_count": 5
        }
      ]
    },
    {
      "cell_type": "markdown",
      "metadata": {
        "id": "LEAwY5fwleiu"
      },
      "source": [
        "## 1.2 Subqueries using the SELECT statement"
      ]
    },
    {
      "cell_type": "markdown",
      "metadata": {
        "id": "xgcGBkvuA3V0"
      },
      "source": [
        "A subquery is a query within another query. The outer query is called as main query and inner query is called as subquery. The subquery must be enclosed with parenthesis and generally executes first, and its output is used to complete the query condition for the main or outer query. We will go through examples of how subqueries can be used to answers different types of questions then later, we will use our learnings to work on the challenges."
      ]
    },
    {
      "cell_type": "code",
      "metadata": {
        "colab": {
          "base_uri": "https://localhost:8080/",
          "height": 182
        },
        "id": "4U8qudjoc9KY",
        "outputId": "a70c3663-fa8d-4cd6-a8b3-a348576ffece"
      },
      "source": [
        "%sql SELECT * FROM Countries LIMIT 5;"
      ],
      "execution_count": null,
      "outputs": [
        {
          "output_type": "stream",
          "text": [
            " * sqlite://\n",
            "Done.\n"
          ],
          "name": "stdout"
        },
        {
          "output_type": "execute_result",
          "data": {
            "text/html": [
              "<table>\n",
              "    <thead>\n",
              "        <tr>\n",
              "            <th>country</th>\n",
              "            <th>population</th>\n",
              "            <th>EU</th>\n",
              "            <th>coastline</th>\n",
              "        </tr>\n",
              "    </thead>\n",
              "    <tbody>\n",
              "        <tr>\n",
              "            <td>Albania</td>\n",
              "            <td>2.9</td>\n",
              "            <td>no</td>\n",
              "            <td>yes</td>\n",
              "        </tr>\n",
              "        <tr>\n",
              "            <td>Andorra</td>\n",
              "            <td>0.07</td>\n",
              "            <td>no</td>\n",
              "            <td>no</td>\n",
              "        </tr>\n",
              "        <tr>\n",
              "            <td>Austria</td>\n",
              "            <td>8.57</td>\n",
              "            <td>yes</td>\n",
              "            <td>no</td>\n",
              "        </tr>\n",
              "        <tr>\n",
              "            <td>Belarus</td>\n",
              "            <td>9.48</td>\n",
              "            <td>no</td>\n",
              "            <td>no</td>\n",
              "        </tr>\n",
              "        <tr>\n",
              "            <td>Belgium</td>\n",
              "            <td>11.37</td>\n",
              "            <td>yes</td>\n",
              "            <td>yes</td>\n",
              "        </tr>\n",
              "    </tbody>\n",
              "</table>"
            ],
            "text/plain": [
              "[('Albania', 2.9, 'no', 'yes'),\n",
              " ('Andorra', 0.07, 'no', 'no'),\n",
              " ('Austria', 8.57, 'yes', 'no'),\n",
              " ('Belarus', 9.48, 'no', 'no'),\n",
              " ('Belgium', 11.37, 'yes', 'yes')]"
            ]
          },
          "metadata": {
            "tags": []
          },
          "execution_count": 11
        }
      ]
    },
    {
      "cell_type": "code",
      "metadata": {
        "colab": {
          "base_uri": "https://localhost:8080/",
          "height": 182
        },
        "id": "2zZwIdgFc9A1",
        "outputId": "a4734c97-fad1-45a0-e817-a42ca86a450e"
      },
      "source": [
        "%sql SELECT * FROM cities LIMIT 5;"
      ],
      "execution_count": null,
      "outputs": [
        {
          "output_type": "stream",
          "text": [
            " * sqlite://\n",
            "Done.\n"
          ],
          "name": "stdout"
        },
        {
          "output_type": "execute_result",
          "data": {
            "text/html": [
              "<table>\n",
              "    <thead>\n",
              "        <tr>\n",
              "            <th>city</th>\n",
              "            <th>country</th>\n",
              "            <th>latitude</th>\n",
              "            <th>longitude</th>\n",
              "            <th>temperature</th>\n",
              "        </tr>\n",
              "    </thead>\n",
              "    <tbody>\n",
              "        <tr>\n",
              "            <td>Aalborg</td>\n",
              "            <td>Denmark</td>\n",
              "            <td>57.03</td>\n",
              "            <td>9.92</td>\n",
              "            <td>7.52</td>\n",
              "        </tr>\n",
              "        <tr>\n",
              "            <td>Aberdeen</td>\n",
              "            <td>United Kingdom</td>\n",
              "            <td>57.17</td>\n",
              "            <td>-2.08</td>\n",
              "            <td>8.1</td>\n",
              "        </tr>\n",
              "        <tr>\n",
              "            <td>Abisko</td>\n",
              "            <td>Sweden</td>\n",
              "            <td>63.35</td>\n",
              "            <td>18.83</td>\n",
              "            <td>0.2</td>\n",
              "        </tr>\n",
              "        <tr>\n",
              "            <td>Adana</td>\n",
              "            <td>Turkey</td>\n",
              "            <td>36.99</td>\n",
              "            <td>35.32</td>\n",
              "            <td>18.67</td>\n",
              "        </tr>\n",
              "        <tr>\n",
              "            <td>Albacete</td>\n",
              "            <td>Spain</td>\n",
              "            <td>39.0</td>\n",
              "            <td>-1.87</td>\n",
              "            <td>12.62</td>\n",
              "        </tr>\n",
              "    </tbody>\n",
              "</table>"
            ],
            "text/plain": [
              "[('Aalborg', 'Denmark', 57.03, 9.92, 7.52),\n",
              " ('Aberdeen', 'United Kingdom', 57.17, -2.08, 8.1),\n",
              " ('Abisko', 'Sweden', 63.35, 18.83, 0.2),\n",
              " ('Adana', 'Turkey', 36.99, 35.32, 18.67),\n",
              " ('Albacete', 'Spain', 39.0, -1.87, 12.62)]"
            ]
          },
          "metadata": {
            "tags": []
          },
          "execution_count": 10
        }
      ]
    },
    {
      "cell_type": "code",
      "metadata": {
        "id": "--LbGFNOnbTx",
        "colab": {
          "base_uri": "https://localhost:8080/",
          "height": 182
        },
        "outputId": "45595d7b-722d-4471-be93-d997b54e730f"
      },
      "source": [
        "# Example 1\n",
        "# Subqueries can occur in the select list of the containing query\n",
        "# as shown below;\n",
        "# Let's find all countries in the Countries table with no city in the Cities table\n",
        "# \n",
        "%%sql\n",
        "SELECT country\n",
        "FROM Countries\n",
        "WHERE NOT EXISTS (SELECT * FROM Cities\n",
        "                  WHERE Cities.country = Countries.country) \n"
      ],
      "execution_count": null,
      "outputs": [
        {
          "output_type": "stream",
          "text": [
            " * sqlite://\n",
            "Done.\n"
          ],
          "name": "stdout"
        },
        {
          "output_type": "execute_result",
          "data": {
            "text/html": [
              "<table>\n",
              "    <thead>\n",
              "        <tr>\n",
              "            <th>country</th>\n",
              "        </tr>\n",
              "    </thead>\n",
              "    <tbody>\n",
              "        <tr>\n",
              "            <td>Cyprus</td>\n",
              "        </tr>\n",
              "        <tr>\n",
              "            <td>Iceland</td>\n",
              "        </tr>\n",
              "        <tr>\n",
              "            <td>Kosovo</td>\n",
              "        </tr>\n",
              "        <tr>\n",
              "            <td>Liechtenstein</td>\n",
              "        </tr>\n",
              "        <tr>\n",
              "            <td>Luxembourg</td>\n",
              "        </tr>\n",
              "    </tbody>\n",
              "</table>"
            ],
            "text/plain": [
              "[('Cyprus',), ('Iceland',), ('Kosovo',), ('Liechtenstein',), ('Luxembourg',)]"
            ]
          },
          "metadata": {
            "tags": []
          },
          "execution_count": 6
        }
      ]
    },
    {
      "cell_type": "code",
      "metadata": {
        "id": "8XqiW-Q8ndKT",
        "colab": {
          "base_uri": "https://localhost:8080/",
          "height": 161
        },
        "outputId": "c67b171f-1485-4133-cb2a-b8d8125f126c"
      },
      "source": [
        "# Example 2\n",
        "# Find the European countries with cities experiencing temperature > 20?\n",
        "# \n",
        "%%sql\n",
        "SELECT country\n",
        "FROM Countries\n",
        "WHERE EU = 'yes'\n",
        "AND EXISTS (SELECT * FROM Cities\n",
        "            WHERE Cities.country = Countries.country\n",
        "            AND temperature > 15)"
      ],
      "execution_count": null,
      "outputs": [
        {
          "output_type": "stream",
          "text": [
            " * sqlite://\n",
            "Done.\n"
          ],
          "name": "stdout"
        },
        {
          "output_type": "execute_result",
          "data": {
            "text/html": [
              "<table>\n",
              "    <thead>\n",
              "        <tr>\n",
              "            <th>country</th>\n",
              "        </tr>\n",
              "    </thead>\n",
              "    <tbody>\n",
              "        <tr>\n",
              "            <td>Greece</td>\n",
              "        </tr>\n",
              "        <tr>\n",
              "            <td>Italy</td>\n",
              "        </tr>\n",
              "        <tr>\n",
              "            <td>Portugal</td>\n",
              "        </tr>\n",
              "        <tr>\n",
              "            <td>Spain</td>\n",
              "        </tr>\n",
              "    </tbody>\n",
              "</table>"
            ],
            "text/plain": [
              "[('Greece',), ('Italy',), ('Portugal',), ('Spain',)]"
            ]
          },
          "metadata": {
            "tags": []
          },
          "execution_count": 12
        }
      ]
    },
    {
      "cell_type": "code",
      "metadata": {
        "id": "ocuJ_kB4nd3z",
        "colab": {
          "base_uri": "https://localhost:8080/",
          "height": 97
        },
        "outputId": "7c4ad751-ede6-4b4e-e278-977dbd88429a"
      },
      "source": [
        "# Example 3: Method 1\n",
        "# Find the westernmost city, returning the city and longitude\n",
        "# \n",
        "%%sql\n",
        "SELECT city, longitude\n",
        "FROM Cities C1\n",
        "WHERE NOT EXISTS (SELECT * FROM Cities C2\n",
        "                  WHERE C2.longitude < C1.longitude)"
      ],
      "execution_count": null,
      "outputs": [
        {
          "output_type": "stream",
          "text": [
            " * sqlite://\n",
            "Done.\n"
          ],
          "name": "stdout"
        },
        {
          "output_type": "execute_result",
          "data": {
            "text/html": [
              "<table>\n",
              "    <thead>\n",
              "        <tr>\n",
              "            <th>city</th>\n",
              "            <th>longitude</th>\n",
              "        </tr>\n",
              "    </thead>\n",
              "    <tbody>\n",
              "        <tr>\n",
              "            <td>Lisbon</td>\n",
              "            <td>-9.14</td>\n",
              "        </tr>\n",
              "    </tbody>\n",
              "</table>"
            ],
            "text/plain": [
              "[('Lisbon', -9.14)]"
            ]
          },
          "metadata": {
            "tags": []
          },
          "execution_count": 13
        }
      ]
    },
    {
      "cell_type": "code",
      "metadata": {
        "id": "MQCaPcMQ5pDl",
        "colab": {
          "base_uri": "https://localhost:8080/",
          "height": 97
        },
        "outputId": "08bbaff2-3412-4f90-99fb-0e2b9491eaaf"
      },
      "source": [
        "# Example 3: Method 2\n",
        "# Find the westernmost city, returning the city and longitude\n",
        "# \n",
        "%%sql\n",
        "SELECT city, longitude\n",
        "FROM Cities\n",
        "WHERE longitude = (SELECT min(longitude) FROM Cities)"
      ],
      "execution_count": null,
      "outputs": [
        {
          "output_type": "stream",
          "text": [
            " * sqlite://\n",
            "Done.\n"
          ],
          "name": "stdout"
        },
        {
          "output_type": "execute_result",
          "data": {
            "text/html": [
              "<table>\n",
              "    <thead>\n",
              "        <tr>\n",
              "            <th>city</th>\n",
              "            <th>longitude</th>\n",
              "        </tr>\n",
              "    </thead>\n",
              "    <tbody>\n",
              "        <tr>\n",
              "            <td>Lisbon</td>\n",
              "            <td>-9.14</td>\n",
              "        </tr>\n",
              "    </tbody>\n",
              "</table>"
            ],
            "text/plain": [
              "[('Lisbon', -9.14)]"
            ]
          },
          "metadata": {
            "tags": []
          },
          "execution_count": 14
        }
      ]
    },
    {
      "cell_type": "code",
      "metadata": {
        "id": "KL5VFl2x7kLZ",
        "colab": {
          "base_uri": "https://localhost:8080/",
          "height": 97
        },
        "outputId": "08357302-46a1-492a-d93a-7fc97060fd1e"
      },
      "source": [
        "# Example 4:\n",
        "# How many cities are in the EU?\n",
        "# \n",
        "%%sql\n",
        "SELECT count()\n",
        "FROM Cities\n",
        "WHERE country IN (SELECT country FROM Countries WHERE EU = 'yes')"
      ],
      "execution_count": null,
      "outputs": [
        {
          "output_type": "stream",
          "text": [
            " * sqlite://\n",
            "Done.\n"
          ],
          "name": "stdout"
        },
        {
          "output_type": "execute_result",
          "data": {
            "text/html": [
              "<table>\n",
              "    <thead>\n",
              "        <tr>\n",
              "            <th>count()</th>\n",
              "        </tr>\n",
              "    </thead>\n",
              "    <tbody>\n",
              "        <tr>\n",
              "            <td>150</td>\n",
              "        </tr>\n",
              "    </tbody>\n",
              "</table>"
            ],
            "text/plain": [
              "[(150,)]"
            ]
          },
          "metadata": {
            "tags": []
          },
          "execution_count": 15
        }
      ]
    },
    {
      "cell_type": "markdown",
      "metadata": {
        "id": "d1czA9cCnfki"
      },
      "source": [
        "### <font color=\"green\">1.2 Challenges</font>"
      ]
    },
    {
      "cell_type": "code",
      "metadata": {
        "id": "BpOpH-fznpo2",
        "colab": {
          "base_uri": "https://localhost:8080/",
          "height": 97
        },
        "outputId": "5d308f07-cf1e-45f0-8e9c-e86b4b4a463f"
      },
      "source": [
        "# Challenge 1\n",
        "# Find number of countries that have a city with latitude > 1000 (start with country list)\n",
        "# \n",
        "%%sql\n",
        "SELECT COUNT(country) FROM countries WHERE EXISTS (SELECT * FROM cities WHERE cities.country = countries.country AND longitude > 1000)"
      ],
      "execution_count": null,
      "outputs": [
        {
          "output_type": "stream",
          "text": [
            " * sqlite://\n",
            "Done.\n"
          ],
          "name": "stdout"
        },
        {
          "output_type": "execute_result",
          "data": {
            "text/html": [
              "<table>\n",
              "    <thead>\n",
              "        <tr>\n",
              "            <th>COUNT(country)</th>\n",
              "        </tr>\n",
              "    </thead>\n",
              "    <tbody>\n",
              "        <tr>\n",
              "            <td>0</td>\n",
              "        </tr>\n",
              "    </tbody>\n",
              "</table>"
            ],
            "text/plain": [
              "[(0,)]"
            ]
          },
          "metadata": {
            "tags": []
          },
          "execution_count": 17
        }
      ]
    },
    {
      "cell_type": "code",
      "metadata": {
        "id": "jIhUfWXlnrcK",
        "colab": {
          "base_uri": "https://localhost:8080/",
          "height": 139
        },
        "outputId": "adf6ed65-fc68-46e8-a3a9-fb776dde8d9a"
      },
      "source": [
        "# Challenge 2\n",
        "# Find three western most cities returning both the cities and their longitude\n",
        "#\n",
        "%%sql\n",
        "SELECT city, longitude FROM cities ORDER BY longitude ASC LIMIT 3;"
      ],
      "execution_count": null,
      "outputs": [
        {
          "output_type": "stream",
          "text": [
            " * sqlite://\n",
            "Done.\n"
          ],
          "name": "stdout"
        },
        {
          "output_type": "execute_result",
          "data": {
            "text/html": [
              "<table>\n",
              "    <thead>\n",
              "        <tr>\n",
              "            <th>city</th>\n",
              "            <th>longitude</th>\n",
              "        </tr>\n",
              "    </thead>\n",
              "    <tbody>\n",
              "        <tr>\n",
              "            <td>Lisbon</td>\n",
              "            <td>-9.14</td>\n",
              "        </tr>\n",
              "        <tr>\n",
              "            <td>Galway</td>\n",
              "            <td>-9.05</td>\n",
              "        </tr>\n",
              "        <tr>\n",
              "            <td>Vigo</td>\n",
              "            <td>-8.73</td>\n",
              "        </tr>\n",
              "    </tbody>\n",
              "</table>"
            ],
            "text/plain": [
              "[('Lisbon', -9.14), ('Galway', -9.05), ('Vigo', -8.73)]"
            ]
          },
          "metadata": {
            "tags": []
          },
          "execution_count": 19
        }
      ]
    },
    {
      "cell_type": "code",
      "metadata": {
        "colab": {
          "base_uri": "https://localhost:8080/",
          "height": 97
        },
        "id": "zAkPqdsyh2w4",
        "outputId": "670ee1a0-d6fd-4de3-b909-33ed2a00c18e"
      },
      "source": [
        "%%sql\n",
        "SELECT avg(temperature)*1.5 FROM cities;"
      ],
      "execution_count": null,
      "outputs": [
        {
          "output_type": "stream",
          "text": [
            " * sqlite://\n",
            "Done.\n"
          ],
          "name": "stdout"
        },
        {
          "output_type": "execute_result",
          "data": {
            "text/html": [
              "<table>\n",
              "    <thead>\n",
              "        <tr>\n",
              "            <th>avg(temperature)*1.5</th>\n",
              "        </tr>\n",
              "    </thead>\n",
              "    <tbody>\n",
              "        <tr>\n",
              "            <td>14.246760563380287</td>\n",
              "        </tr>\n",
              "    </tbody>\n",
              "</table>"
            ],
            "text/plain": [
              "[(14.246760563380287,)]"
            ]
          },
          "metadata": {
            "tags": []
          },
          "execution_count": 25
        }
      ]
    },
    {
      "cell_type": "code",
      "metadata": {
        "id": "o0ACgdPAnvrF",
        "colab": {
          "base_uri": "https://localhost:8080/",
          "height": 625
        },
        "outputId": "1ffd910b-b024-4fe2-fb8a-4ecf0b698a64"
      },
      "source": [
        "# Challenge 3\n",
        "# Find cities with temperature is more than 50% higher than the average; \n",
        "# We will return the city, country, and temperature, ordered by descending temperature\n",
        "# Hint: avg(temperature) * 1.5\n",
        "# \n",
        "%%sql\n",
        "SELECT city,temperature FROM cities WHERE temperature > (SELECT avg(temperature)*1.5 FROM cities)\n",
        "ORDER BY temperature DESC;"
      ],
      "execution_count": null,
      "outputs": [
        {
          "output_type": "stream",
          "text": [
            " * sqlite://\n",
            "Done.\n"
          ],
          "name": "stdout"
        },
        {
          "output_type": "execute_result",
          "data": {
            "text/html": [
              "<table>\n",
              "    <thead>\n",
              "        <tr>\n",
              "            <th>city</th>\n",
              "            <th>temperature</th>\n",
              "        </tr>\n",
              "    </thead>\n",
              "    <tbody>\n",
              "        <tr>\n",
              "            <td>Adana</td>\n",
              "            <td>18.67</td>\n",
              "        </tr>\n",
              "        <tr>\n",
              "            <td>Palermo</td>\n",
              "            <td>17.9</td>\n",
              "        </tr>\n",
              "        <tr>\n",
              "            <td>Athens</td>\n",
              "            <td>17.41</td>\n",
              "        </tr>\n",
              "        <tr>\n",
              "            <td>Algeciras</td>\n",
              "            <td>17.38</td>\n",
              "        </tr>\n",
              "        <tr>\n",
              "            <td>Cartagena</td>\n",
              "            <td>17.32</td>\n",
              "        </tr>\n",
              "        <tr>\n",
              "            <td>Kalamata</td>\n",
              "            <td>17.3</td>\n",
              "        </tr>\n",
              "        <tr>\n",
              "            <td>Marbella</td>\n",
              "            <td>17.19</td>\n",
              "        </tr>\n",
              "        <tr>\n",
              "            <td>Huelva</td>\n",
              "            <td>17.09</td>\n",
              "        </tr>\n",
              "        <tr>\n",
              "            <td>Patras</td>\n",
              "            <td>16.9</td>\n",
              "        </tr>\n",
              "        <tr>\n",
              "            <td>Cosenza</td>\n",
              "            <td>16.6</td>\n",
              "        </tr>\n",
              "        <tr>\n",
              "            <td>Messina</td>\n",
              "            <td>16.54</td>\n",
              "        </tr>\n",
              "        <tr>\n",
              "            <td>Granada</td>\n",
              "            <td>16.33</td>\n",
              "        </tr>\n",
              "        <tr>\n",
              "            <td>Valencia</td>\n",
              "            <td>16.02</td>\n",
              "        </tr>\n",
              "        <tr>\n",
              "            <td>Trikala</td>\n",
              "            <td>16.0</td>\n",
              "        </tr>\n",
              "        <tr>\n",
              "            <td>Barcelona</td>\n",
              "            <td>15.78</td>\n",
              "        </tr>\n",
              "        <tr>\n",
              "            <td>Badajoz</td>\n",
              "            <td>15.61</td>\n",
              "        </tr>\n",
              "        <tr>\n",
              "            <td>Lisbon</td>\n",
              "            <td>15.52</td>\n",
              "        </tr>\n",
              "        <tr>\n",
              "            <td>Elbasan</td>\n",
              "            <td>15.18</td>\n",
              "        </tr>\n",
              "        <tr>\n",
              "            <td>Bari</td>\n",
              "            <td>15.15</td>\n",
              "        </tr>\n",
              "        <tr>\n",
              "            <td>Pescara</td>\n",
              "            <td>15.13</td>\n",
              "        </tr>\n",
              "        <tr>\n",
              "            <td>Manisa</td>\n",
              "            <td>15.1</td>\n",
              "        </tr>\n",
              "        <tr>\n",
              "            <td>Rome</td>\n",
              "            <td>15.1</td>\n",
              "        </tr>\n",
              "        <tr>\n",
              "            <td>Catania</td>\n",
              "            <td>15.04</td>\n",
              "        </tr>\n",
              "        <tr>\n",
              "            <td>Denizli</td>\n",
              "            <td>15.02</td>\n",
              "        </tr>\n",
              "        <tr>\n",
              "            <td>Murcia</td>\n",
              "            <td>15.0</td>\n",
              "        </tr>\n",
              "        <tr>\n",
              "            <td>Marseille</td>\n",
              "            <td>14.98</td>\n",
              "        </tr>\n",
              "    </tbody>\n",
              "</table>"
            ],
            "text/plain": [
              "[('Adana', 18.67),\n",
              " ('Palermo', 17.9),\n",
              " ('Athens', 17.41),\n",
              " ('Algeciras', 17.38),\n",
              " ('Cartagena', 17.32),\n",
              " ('Kalamata', 17.3),\n",
              " ('Marbella', 17.19),\n",
              " ('Huelva', 17.09),\n",
              " ('Patras', 16.9),\n",
              " ('Cosenza', 16.6),\n",
              " ('Messina', 16.54),\n",
              " ('Granada', 16.33),\n",
              " ('Valencia', 16.02),\n",
              " ('Trikala', 16.0),\n",
              " ('Barcelona', 15.78),\n",
              " ('Badajoz', 15.61),\n",
              " ('Lisbon', 15.52),\n",
              " ('Elbasan', 15.18),\n",
              " ('Bari', 15.15),\n",
              " ('Pescara', 15.13),\n",
              " ('Manisa', 15.1),\n",
              " ('Rome', 15.1),\n",
              " ('Catania', 15.04),\n",
              " ('Denizli', 15.02),\n",
              " ('Murcia', 15.0),\n",
              " ('Marseille', 14.98)]"
            ]
          },
          "metadata": {
            "tags": []
          },
          "execution_count": 26
        }
      ]
    },
    {
      "cell_type": "code",
      "metadata": {
        "id": "fmUqjv6F6lQ0",
        "colab": {
          "base_uri": "https://localhost:8080/",
          "height": 97
        },
        "outputId": "42f0ad63-3906-443e-bfc4-299829955a0a"
      },
      "source": [
        "# Challenge 4\n",
        "# How many cities are not in the EU and without a coastline?\n",
        "# Hint: \"not in\"\n",
        "# \n",
        "%%sql\n",
        "SELECT COUNT(city) AS \"Number of cities which are not in the EU and without a coastline\"\n",
        "FROM cities WHERE NOT EXISTS (SELECT * FROM Countries WHERE cities.country = Countries.country AND \"EU\" = 'no' AND \"coastline\" = 'no')"
      ],
      "execution_count": null,
      "outputs": [
        {
          "output_type": "stream",
          "text": [
            " * sqlite://\n",
            "Done.\n"
          ],
          "name": "stdout"
        },
        {
          "output_type": "execute_result",
          "data": {
            "text/html": [
              "<table>\n",
              "    <thead>\n",
              "        <tr>\n",
              "            <th>Number of cities which are not in the EU and without a coastline</th>\n",
              "        </tr>\n",
              "    </thead>\n",
              "    <tbody>\n",
              "        <tr>\n",
              "            <td>197</td>\n",
              "        </tr>\n",
              "    </tbody>\n",
              "</table>"
            ],
            "text/plain": [
              "[(197,)]"
            ]
          },
          "metadata": {
            "tags": []
          },
          "execution_count": 29
        }
      ]
    },
    {
      "cell_type": "code",
      "metadata": {
        "id": "x14dNNSB8X9_",
        "colab": {
          "base_uri": "https://localhost:8080/",
          "height": 97
        },
        "outputId": "4a72f07b-a908-4709-b7d5-ac8d75310e88"
      },
      "source": [
        "# Challenge 5\n",
        "# Find the number of countries with no coastline and a city with longitude < 10\n",
        "# \n",
        "%%sql\n",
        "SELECT COUNT(country) FROM Countries\n",
        "WHERE EXISTS (SELECT * FROM cities WHERE longitude<10) AND coastline = 'no';"
      ],
      "execution_count": null,
      "outputs": [
        {
          "output_type": "stream",
          "text": [
            " * sqlite://\n",
            "Done.\n"
          ],
          "name": "stdout"
        },
        {
          "output_type": "execute_result",
          "data": {
            "text/html": [
              "<table>\n",
              "    <thead>\n",
              "        <tr>\n",
              "            <th>COUNT(country)</th>\n",
              "        </tr>\n",
              "    </thead>\n",
              "    <tbody>\n",
              "        <tr>\n",
              "            <td>13</td>\n",
              "        </tr>\n",
              "    </tbody>\n",
              "</table>"
            ],
            "text/plain": [
              "[(13,)]"
            ]
          },
          "metadata": {
            "tags": []
          },
          "execution_count": 32
        }
      ]
    },
    {
      "cell_type": "code",
      "metadata": {
        "id": "Z_AeMRdD82F8",
        "colab": {
          "base_uri": "https://localhost:8080/",
          "height": 182
        },
        "outputId": "9589fbaa-d1e8-4173-cd60-8b29f25b1f06"
      },
      "source": [
        "# Challenge 6\n",
        "# Find countries in Countries table with no city in Cities table\n",
        "# \n",
        "# COMPLETE THE CODE BELOW\n",
        "\n",
        "%%sql\n",
        "SELECT country\n",
        "FROM Countries\n",
        "WHERE NOT EXISTS (SELECT * FROM Cities WHERE Cities.country = Countries.country);"
      ],
      "execution_count": null,
      "outputs": [
        {
          "output_type": "stream",
          "text": [
            " * sqlite://\n",
            "Done.\n"
          ],
          "name": "stdout"
        },
        {
          "output_type": "execute_result",
          "data": {
            "text/html": [
              "<table>\n",
              "    <thead>\n",
              "        <tr>\n",
              "            <th>country</th>\n",
              "        </tr>\n",
              "    </thead>\n",
              "    <tbody>\n",
              "        <tr>\n",
              "            <td>Cyprus</td>\n",
              "        </tr>\n",
              "        <tr>\n",
              "            <td>Iceland</td>\n",
              "        </tr>\n",
              "        <tr>\n",
              "            <td>Kosovo</td>\n",
              "        </tr>\n",
              "        <tr>\n",
              "            <td>Liechtenstein</td>\n",
              "        </tr>\n",
              "        <tr>\n",
              "            <td>Luxembourg</td>\n",
              "        </tr>\n",
              "    </tbody>\n",
              "</table>"
            ],
            "text/plain": [
              "[('Cyprus',), ('Iceland',), ('Kosovo',), ('Liechtenstein',), ('Luxembourg',)]"
            ]
          },
          "metadata": {
            "tags": []
          },
          "execution_count": 33
        }
      ]
    },
    {
      "cell_type": "code",
      "metadata": {
        "id": "4dW5nRzi9atc",
        "colab": {
          "base_uri": "https://localhost:8080/",
          "height": 203
        },
        "outputId": "b9f3134a-5c10-484f-b58f-0dddf5bcee15"
      },
      "source": [
        "# Challenge 7\n",
        "# Find all cities in a country whose population is < 2, returning the city and country.\n",
        "# \n",
        "%%sql\n",
        "SELECT city, country FROM cities\n",
        "WHERE EXISTS (SELECT * FROM Countries WHERE population < 2 AND cities.country = Countries.country);"
      ],
      "execution_count": null,
      "outputs": [
        {
          "output_type": "stream",
          "text": [
            " * sqlite://\n",
            "Done.\n"
          ],
          "name": "stdout"
        },
        {
          "output_type": "execute_result",
          "data": {
            "text/html": [
              "<table>\n",
              "    <thead>\n",
              "        <tr>\n",
              "            <th>city</th>\n",
              "            <th>country</th>\n",
              "        </tr>\n",
              "    </thead>\n",
              "    <tbody>\n",
              "        <tr>\n",
              "            <td>Andorra</td>\n",
              "            <td>Andorra</td>\n",
              "        </tr>\n",
              "        <tr>\n",
              "            <td>Daugavpils</td>\n",
              "            <td>Latvia</td>\n",
              "        </tr>\n",
              "        <tr>\n",
              "            <td>Podgorica</td>\n",
              "            <td>Montenegro</td>\n",
              "        </tr>\n",
              "        <tr>\n",
              "            <td>Riga</td>\n",
              "            <td>Latvia</td>\n",
              "        </tr>\n",
              "        <tr>\n",
              "            <td>Tallinn</td>\n",
              "            <td>Estonia</td>\n",
              "        </tr>\n",
              "        <tr>\n",
              "            <td>Tartu</td>\n",
              "            <td>Estonia</td>\n",
              "        </tr>\n",
              "    </tbody>\n",
              "</table>"
            ],
            "text/plain": [
              "[('Andorra', 'Andorra'),\n",
              " ('Daugavpils', 'Latvia'),\n",
              " ('Podgorica', 'Montenegro'),\n",
              " ('Riga', 'Latvia'),\n",
              " ('Tallinn', 'Estonia'),\n",
              " ('Tartu', 'Estonia')]"
            ]
          },
          "metadata": {
            "tags": []
          },
          "execution_count": 36
        }
      ]
    },
    {
      "cell_type": "code",
      "metadata": {
        "id": "rZCO_07d9n9G",
        "colab": {
          "base_uri": "https://localhost:8080/",
          "height": 1000
        },
        "outputId": "b4b97448-5c6e-4312-ee60-ab255f37e69d"
      },
      "source": [
        "# Challenge 8\n",
        "# Find all countries with no city having a temperature > 6\n",
        "# \n",
        "%%sql\n",
        "SELECT country,temperature FROM cities\n",
        "WHERE EXISTS (SELECT * FROM Countries WHERE cities.country = Countries.country)\n",
        "AND temperature > 6 ORDER BY temperature ASC;"
      ],
      "execution_count": null,
      "outputs": [
        {
          "output_type": "stream",
          "text": [
            " * sqlite://\n",
            "Done.\n"
          ],
          "name": "stdout"
        },
        {
          "output_type": "execute_result",
          "data": {
            "text/html": [
              "<table>\n",
              "    <thead>\n",
              "        <tr>\n",
              "            <th>country</th>\n",
              "            <th>temperature</th>\n",
              "        </tr>\n",
              "    </thead>\n",
              "    <tbody>\n",
              "        <tr>\n",
              "            <td>Lithuania</td>\n",
              "            <td>6.05</td>\n",
              "        </tr>\n",
              "        <tr>\n",
              "            <td>Poland</td>\n",
              "            <td>6.07</td>\n",
              "        </tr>\n",
              "        <tr>\n",
              "            <td>Belarus</td>\n",
              "            <td>6.07</td>\n",
              "        </tr>\n",
              "        <tr>\n",
              "            <td>Belarus</td>\n",
              "            <td>6.25</td>\n",
              "        </tr>\n",
              "        <tr>\n",
              "            <td>Sweden</td>\n",
              "            <td>6.26</td>\n",
              "        </tr>\n",
              "        <tr>\n",
              "            <td>Ukraine</td>\n",
              "            <td>6.28</td>\n",
              "        </tr>\n",
              "        <tr>\n",
              "            <td>United Kingdom</td>\n",
              "            <td>6.4</td>\n",
              "        </tr>\n",
              "        <tr>\n",
              "            <td>Belarus</td>\n",
              "            <td>6.42</td>\n",
              "        </tr>\n",
              "        <tr>\n",
              "            <td>Italy</td>\n",
              "            <td>6.65</td>\n",
              "        </tr>\n",
              "        <tr>\n",
              "            <td>Ukraine</td>\n",
              "            <td>6.67</td>\n",
              "        </tr>\n",
              "        <tr>\n",
              "            <td>Switzerland</td>\n",
              "            <td>6.68</td>\n",
              "        </tr>\n",
              "        <tr>\n",
              "            <td>Poland</td>\n",
              "            <td>6.68</td>\n",
              "        </tr>\n",
              "        <tr>\n",
              "            <td>Germany</td>\n",
              "            <td>6.68</td>\n",
              "        </tr>\n",
              "        <tr>\n",
              "            <td>France</td>\n",
              "            <td>6.68</td>\n",
              "        </tr>\n",
              "        <tr>\n",
              "            <td>Switzerland</td>\n",
              "            <td>6.68</td>\n",
              "        </tr>\n",
              "        <tr>\n",
              "            <td>Belarus</td>\n",
              "            <td>6.73</td>\n",
              "        </tr>\n",
              "        <tr>\n",
              "            <td>Ukraine</td>\n",
              "            <td>6.76</td>\n",
              "        </tr>\n",
              "        <tr>\n",
              "            <td>Austria</td>\n",
              "            <td>6.79</td>\n",
              "        </tr>\n",
              "        <tr>\n",
              "            <td>Ukraine</td>\n",
              "            <td>6.88</td>\n",
              "        </tr>\n",
              "        <tr>\n",
              "            <td>Austria</td>\n",
              "            <td>6.91</td>\n",
              "        </tr>\n",
              "        <tr>\n",
              "            <td>Romania</td>\n",
              "            <td>6.97</td>\n",
              "        </tr>\n",
              "        <tr>\n",
              "            <td>Ukraine</td>\n",
              "            <td>6.98</td>\n",
              "        </tr>\n",
              "        <tr>\n",
              "            <td>Lithuania</td>\n",
              "            <td>7.0</td>\n",
              "        </tr>\n",
              "        <tr>\n",
              "            <td>Ukraine</td>\n",
              "            <td>7.04</td>\n",
              "        </tr>\n",
              "        <tr>\n",
              "            <td>Ukraine</td>\n",
              "            <td>7.06</td>\n",
              "        </tr>\n",
              "        <tr>\n",
              "            <td>Ukraine</td>\n",
              "            <td>7.12</td>\n",
              "        </tr>\n",
              "        <tr>\n",
              "            <td>Poland</td>\n",
              "            <td>7.14</td>\n",
              "        </tr>\n",
              "        <tr>\n",
              "            <td>Poland</td>\n",
              "            <td>7.17</td>\n",
              "        </tr>\n",
              "        <tr>\n",
              "            <td>Ukraine</td>\n",
              "            <td>7.19</td>\n",
              "        </tr>\n",
              "        <tr>\n",
              "            <td>Poland</td>\n",
              "            <td>7.2</td>\n",
              "        </tr>\n",
              "        <tr>\n",
              "            <td>Poland</td>\n",
              "            <td>7.29</td>\n",
              "        </tr>\n",
              "        <tr>\n",
              "            <td>Slovakia</td>\n",
              "            <td>7.31</td>\n",
              "        </tr>\n",
              "        <tr>\n",
              "            <td>Sweden</td>\n",
              "            <td>7.33</td>\n",
              "        </tr>\n",
              "        <tr>\n",
              "            <td>Germany</td>\n",
              "            <td>7.4</td>\n",
              "        </tr>\n",
              "        <tr>\n",
              "            <td>United Kingdom</td>\n",
              "            <td>7.43</td>\n",
              "        </tr>\n",
              "        <tr>\n",
              "            <td>Ukraine</td>\n",
              "            <td>7.43</td>\n",
              "        </tr>\n",
              "        <tr>\n",
              "            <td>Romania</td>\n",
              "            <td>7.51</td>\n",
              "        </tr>\n",
              "        <tr>\n",
              "            <td>Denmark</td>\n",
              "            <td>7.52</td>\n",
              "        </tr>\n",
              "        <tr>\n",
              "            <td>Germany</td>\n",
              "            <td>7.57</td>\n",
              "        </tr>\n",
              "        <tr>\n",
              "            <td>Poland</td>\n",
              "            <td>7.66</td>\n",
              "        </tr>\n",
              "        <tr>\n",
              "            <td>Czech Republic</td>\n",
              "            <td>7.66</td>\n",
              "        </tr>\n",
              "        <tr>\n",
              "            <td>Poland</td>\n",
              "            <td>7.73</td>\n",
              "        </tr>\n",
              "        <tr>\n",
              "            <td>Denmark</td>\n",
              "            <td>7.73</td>\n",
              "        </tr>\n",
              "        <tr>\n",
              "            <td>Czech Republic</td>\n",
              "            <td>7.86</td>\n",
              "        </tr>\n",
              "        <tr>\n",
              "            <td>Austria</td>\n",
              "            <td>7.86</td>\n",
              "        </tr>\n",
              "        <tr>\n",
              "            <td>Germany</td>\n",
              "            <td>7.98</td>\n",
              "        </tr>\n",
              "        <tr>\n",
              "            <td>United Kingdom</td>\n",
              "            <td>8.0</td>\n",
              "        </tr>\n",
              "        <tr>\n",
              "            <td>Germany</td>\n",
              "            <td>8.05</td>\n",
              "        </tr>\n",
              "        <tr>\n",
              "            <td>Czech Republic</td>\n",
              "            <td>8.05</td>\n",
              "        </tr>\n",
              "        <tr>\n",
              "            <td>Turkey</td>\n",
              "            <td>8.05</td>\n",
              "        </tr>\n",
              "        <tr>\n",
              "            <td>Germany</td>\n",
              "            <td>8.07</td>\n",
              "        </tr>\n",
              "        <tr>\n",
              "            <td>United Kingdom</td>\n",
              "            <td>8.1</td>\n",
              "        </tr>\n",
              "        <tr>\n",
              "            <td>Germany</td>\n",
              "            <td>8.14</td>\n",
              "        </tr>\n",
              "        <tr>\n",
              "            <td>Moldova</td>\n",
              "            <td>8.23</td>\n",
              "        </tr>\n",
              "        <tr>\n",
              "            <td>Romania</td>\n",
              "            <td>8.23</td>\n",
              "        </tr>\n",
              "        <tr>\n",
              "            <td>Germany</td>\n",
              "            <td>8.26</td>\n",
              "        </tr>\n",
              "        <tr>\n",
              "            <td>Bulgaria</td>\n",
              "            <td>8.27</td>\n",
              "        </tr>\n",
              "        <tr>\n",
              "            <td>Poland</td>\n",
              "            <td>8.31</td>\n",
              "        </tr>\n",
              "        <tr>\n",
              "            <td>United Kingdom</td>\n",
              "            <td>8.39</td>\n",
              "        </tr>\n",
              "        <tr>\n",
              "            <td>Switzerland</td>\n",
              "            <td>8.4</td>\n",
              "        </tr>\n",
              "        <tr>\n",
              "            <td>France</td>\n",
              "            <td>8.4</td>\n",
              "        </tr>\n",
              "        <tr>\n",
              "            <td>Germany</td>\n",
              "            <td>8.47</td>\n",
              "        </tr>\n",
              "        <tr>\n",
              "            <td>United Kingdom</td>\n",
              "            <td>8.48</td>\n",
              "        </tr>\n",
              "        <tr>\n",
              "            <td>Ireland</td>\n",
              "            <td>8.49</td>\n",
              "        </tr>\n",
              "        <tr>\n",
              "            <td>Moldova</td>\n",
              "            <td>8.6</td>\n",
              "        </tr>\n",
              "        <tr>\n",
              "            <td>United Kingdom</td>\n",
              "            <td>8.6</td>\n",
              "        </tr>\n",
              "        <tr>\n",
              "            <td>Ukraine</td>\n",
              "            <td>8.61</td>\n",
              "        </tr>\n",
              "        <tr>\n",
              "            <td>Germany</td>\n",
              "            <td>8.63</td>\n",
              "        </tr>\n",
              "        <tr>\n",
              "            <td>Netherlands</td>\n",
              "            <td>8.63</td>\n",
              "        </tr>\n",
              "        <tr>\n",
              "            <td>Ukraine</td>\n",
              "            <td>8.64</td>\n",
              "        </tr>\n",
              "        <tr>\n",
              "            <td>Turkey</td>\n",
              "            <td>8.67</td>\n",
              "        </tr>\n",
              "        <tr>\n",
              "            <td>France</td>\n",
              "            <td>8.69</td>\n",
              "        </tr>\n",
              "        <tr>\n",
              "            <td>Ukraine</td>\n",
              "            <td>8.7</td>\n",
              "        </tr>\n",
              "        <tr>\n",
              "            <td>Netherlands</td>\n",
              "            <td>8.71</td>\n",
              "        </tr>\n",
              "        <tr>\n",
              "            <td>Germany</td>\n",
              "            <td>8.72</td>\n",
              "        </tr>\n",
              "        <tr>\n",
              "            <td>Germany</td>\n",
              "            <td>8.78</td>\n",
              "        </tr>\n",
              "        <tr>\n",
              "            <td>United Kingdom</td>\n",
              "            <td>8.81</td>\n",
              "        </tr>\n",
              "        <tr>\n",
              "            <td>France</td>\n",
              "            <td>8.82</td>\n",
              "        </tr>\n",
              "        <tr>\n",
              "            <td>Romania</td>\n",
              "            <td>8.87</td>\n",
              "        </tr>\n",
              "        <tr>\n",
              "            <td>Hungary</td>\n",
              "            <td>8.87</td>\n",
              "        </tr>\n",
              "        <tr>\n",
              "            <td>Germany</td>\n",
              "            <td>8.88</td>\n",
              "        </tr>\n",
              "        <tr>\n",
              "            <td>France</td>\n",
              "            <td>8.88</td>\n",
              "        </tr>\n",
              "        <tr>\n",
              "            <td>Turkey</td>\n",
              "            <td>8.89</td>\n",
              "        </tr>\n",
              "        <tr>\n",
              "            <td>Netherlands</td>\n",
              "            <td>8.93</td>\n",
              "        </tr>\n",
              "        <tr>\n",
              "            <td>Italy</td>\n",
              "            <td>9.12</td>\n",
              "        </tr>\n",
              "        <tr>\n",
              "            <td>United Kingdom</td>\n",
              "            <td>9.15</td>\n",
              "        </tr>\n",
              "        <tr>\n",
              "            <td>United Kingdom</td>\n",
              "            <td>9.25</td>\n",
              "        </tr>\n",
              "        <tr>\n",
              "            <td>Slovenia</td>\n",
              "            <td>9.27</td>\n",
              "        </tr>\n",
              "        <tr>\n",
              "            <td>Croatia</td>\n",
              "            <td>9.27</td>\n",
              "        </tr>\n",
              "        <tr>\n",
              "            <td>Romania</td>\n",
              "            <td>9.32</td>\n",
              "        </tr>\n",
              "        <tr>\n",
              "            <td>Serbia</td>\n",
              "            <td>9.36</td>\n",
              "        </tr>\n",
              "        <tr>\n",
              "            <td>Macedonia</td>\n",
              "            <td>9.36</td>\n",
              "        </tr>\n",
              "        <tr>\n",
              "            <td>France</td>\n",
              "            <td>9.4</td>\n",
              "        </tr>\n",
              "        <tr>\n",
              "            <td>Ireland</td>\n",
              "            <td>9.41</td>\n",
              "        </tr>\n",
              "        <tr>\n",
              "            <td>Hungary</td>\n",
              "            <td>9.55</td>\n",
              "        </tr>\n",
              "        <tr>\n",
              "            <td>Andorra</td>\n",
              "            <td>9.6</td>\n",
              "        </tr>\n",
              "        <tr>\n",
              "            <td>Bosnia and Herzegovina</td>\n",
              "            <td>9.6</td>\n",
              "        </tr>\n",
              "        <tr>\n",
              "            <td>Slovakia</td>\n",
              "            <td>9.65</td>\n",
              "        </tr>\n",
              "        <tr>\n",
              "            <td>Belgium</td>\n",
              "            <td>9.65</td>\n",
              "        </tr>\n",
              "        <tr>\n",
              "            <td>Hungary</td>\n",
              "            <td>9.65</td>\n",
              "        </tr>\n",
              "        <tr>\n",
              "            <td>France</td>\n",
              "            <td>9.65</td>\n",
              "        </tr>\n",
              "        <tr>\n",
              "            <td>United Kingdom</td>\n",
              "            <td>9.73</td>\n",
              "        </tr>\n",
              "        <tr>\n",
              "            <td>Romania</td>\n",
              "            <td>9.78</td>\n",
              "        </tr>\n",
              "        <tr>\n",
              "            <td>Serbia</td>\n",
              "            <td>9.85</td>\n",
              "        </tr>\n",
              "        <tr>\n",
              "            <td>Turkey</td>\n",
              "            <td>9.86</td>\n",
              "        </tr>\n",
              "        <tr>\n",
              "            <td>France</td>\n",
              "            <td>9.96</td>\n",
              "        </tr>\n",
              "        <tr>\n",
              "            <td>United Kingdom</td>\n",
              "            <td>9.97</td>\n",
              "        </tr>\n",
              "        <tr>\n",
              "            <td>Montenegro</td>\n",
              "            <td>9.99</td>\n",
              "        </tr>\n",
              "        <tr>\n",
              "            <td>Ireland</td>\n",
              "            <td>10.0</td>\n",
              "        </tr>\n",
              "        <tr>\n",
              "            <td>Ukraine</td>\n",
              "            <td>10.02</td>\n",
              "        </tr>\n",
              "        <tr>\n",
              "            <td>United Kingdom</td>\n",
              "            <td>10.14</td>\n",
              "        </tr>\n",
              "        <tr>\n",
              "            <td>France</td>\n",
              "            <td>10.17</td>\n",
              "        </tr>\n",
              "        <tr>\n",
              "            <td>France</td>\n",
              "            <td>10.25</td>\n",
              "        </tr>\n",
              "        <tr>\n",
              "            <td>Turkey</td>\n",
              "            <td>10.28</td>\n",
              "        </tr>\n",
              "        <tr>\n",
              "            <td>France</td>\n",
              "            <td>10.32</td>\n",
              "        </tr>\n",
              "        <tr>\n",
              "            <td>Serbia</td>\n",
              "            <td>10.34</td>\n",
              "        </tr>\n",
              "        <tr>\n",
              "            <td>Hungary</td>\n",
              "            <td>10.34</td>\n",
              "        </tr>\n",
              "        <tr>\n",
              "            <td>Turkey</td>\n",
              "            <td>10.41</td>\n",
              "        </tr>\n",
              "        <tr>\n",
              "            <td>Spain</td>\n",
              "            <td>10.45</td>\n",
              "        </tr>\n",
              "        <tr>\n",
              "            <td>Romania</td>\n",
              "            <td>10.51</td>\n",
              "        </tr>\n",
              "        <tr>\n",
              "            <td>Bulgaria</td>\n",
              "            <td>10.51</td>\n",
              "        </tr>\n",
              "        <tr>\n",
              "            <td>Romania</td>\n",
              "            <td>10.59</td>\n",
              "        </tr>\n",
              "        <tr>\n",
              "            <td>France</td>\n",
              "            <td>10.59</td>\n",
              "        </tr>\n",
              "        <tr>\n",
              "            <td>Bulgaria</td>\n",
              "            <td>10.59</td>\n",
              "        </tr>\n",
              "        <tr>\n",
              "            <td>Turkey</td>\n",
              "            <td>10.64</td>\n",
              "        </tr>\n",
              "        <tr>\n",
              "            <td>Spain</td>\n",
              "            <td>10.85</td>\n",
              "        </tr>\n",
              "        <tr>\n",
              "            <td>Turkey</td>\n",
              "            <td>10.9</td>\n",
              "        </tr>\n",
              "        <tr>\n",
              "            <td>Bulgaria</td>\n",
              "            <td>10.9</td>\n",
              "        </tr>\n",
              "        <tr>\n",
              "            <td>France</td>\n",
              "            <td>10.95</td>\n",
              "        </tr>\n",
              "        <tr>\n",
              "            <td>France</td>\n",
              "            <td>10.98</td>\n",
              "        </tr>\n",
              "        <tr>\n",
              "            <td>France</td>\n",
              "            <td>11.02</td>\n",
              "        </tr>\n",
              "        <tr>\n",
              "            <td>Turkey</td>\n",
              "            <td>11.11</td>\n",
              "        </tr>\n",
              "        <tr>\n",
              "            <td>France</td>\n",
              "            <td>11.11</td>\n",
              "        </tr>\n",
              "        <tr>\n",
              "            <td>Turkey</td>\n",
              "            <td>11.16</td>\n",
              "        </tr>\n",
              "        <tr>\n",
              "            <td>Spain</td>\n",
              "            <td>11.19</td>\n",
              "        </tr>\n",
              "        <tr>\n",
              "            <td>Turkey</td>\n",
              "            <td>11.21</td>\n",
              "        </tr>\n",
              "        <tr>\n",
              "            <td>Italy</td>\n",
              "            <td>11.21</td>\n",
              "        </tr>\n",
              "        <tr>\n",
              "            <td>Romania</td>\n",
              "            <td>11.24</td>\n",
              "        </tr>\n",
              "        <tr>\n",
              "            <td>Spain</td>\n",
              "            <td>11.41</td>\n",
              "        </tr>\n",
              "        <tr>\n",
              "            <td>Spain</td>\n",
              "            <td>11.63</td>\n",
              "        </tr>\n",
              "        <tr>\n",
              "            <td>Italy</td>\n",
              "            <td>11.69</td>\n",
              "        </tr>\n",
              "        <tr>\n",
              "            <td>Italy</td>\n",
              "            <td>11.7</td>\n",
              "        </tr>\n",
              "        <tr>\n",
              "            <td>France</td>\n",
              "            <td>11.87</td>\n",
              "        </tr>\n",
              "        <tr>\n",
              "            <td>Turkey</td>\n",
              "            <td>11.88</td>\n",
              "        </tr>\n",
              "        <tr>\n",
              "            <td>Turkey</td>\n",
              "            <td>11.92</td>\n",
              "        </tr>\n",
              "        <tr>\n",
              "            <td>Bulgaria</td>\n",
              "            <td>11.93</td>\n",
              "        </tr>\n",
              "        <tr>\n",
              "            <td>Turkey</td>\n",
              "            <td>12.05</td>\n",
              "        </tr>\n",
              "        <tr>\n",
              "            <td>Croatia</td>\n",
              "            <td>12.46</td>\n",
              "        </tr>\n",
              "        <tr>\n",
              "            <td>Turkey</td>\n",
              "            <td>12.48</td>\n",
              "        </tr>\n",
              "        <tr>\n",
              "            <td>Spain</td>\n",
              "            <td>12.62</td>\n",
              "        </tr>\n",
              "        <tr>\n",
              "            <td>Spain</td>\n",
              "            <td>12.85</td>\n",
              "        </tr>\n",
              "        <tr>\n",
              "            <td>Italy</td>\n",
              "            <td>12.94</td>\n",
              "        </tr>\n",
              "        <tr>\n",
              "            <td>Turkey</td>\n",
              "            <td>13.02</td>\n",
              "        </tr>\n",
              "        <tr>\n",
              "            <td>Turkey</td>\n",
              "            <td>13.2</td>\n",
              "        </tr>\n",
              "        <tr>\n",
              "            <td>Spain</td>\n",
              "            <td>13.4</td>\n",
              "        </tr>\n",
              "        <tr>\n",
              "            <td>Portugal</td>\n",
              "            <td>13.42</td>\n",
              "        </tr>\n",
              "        <tr>\n",
              "            <td>Turkey</td>\n",
              "            <td>13.46</td>\n",
              "        </tr>\n",
              "        <tr>\n",
              "            <td>Italy</td>\n",
              "            <td>13.52</td>\n",
              "        </tr>\n",
              "        <tr>\n",
              "            <td>Italy</td>\n",
              "            <td>13.83</td>\n",
              "        </tr>\n",
              "        <tr>\n",
              "            <td>Turkey</td>\n",
              "            <td>14.13</td>\n",
              "        </tr>\n",
              "        <tr>\n",
              "            <td>Turkey</td>\n",
              "            <td>14.16</td>\n",
              "        </tr>\n",
              "        <tr>\n",
              "            <td>Spain</td>\n",
              "            <td>14.17</td>\n",
              "        </tr>\n",
              "        <tr>\n",
              "            <td>France</td>\n",
              "            <td>14.98</td>\n",
              "        </tr>\n",
              "        <tr>\n",
              "            <td>Spain</td>\n",
              "            <td>15.0</td>\n",
              "        </tr>\n",
              "        <tr>\n",
              "            <td>Turkey</td>\n",
              "            <td>15.02</td>\n",
              "        </tr>\n",
              "        <tr>\n",
              "            <td>Italy</td>\n",
              "            <td>15.04</td>\n",
              "        </tr>\n",
              "        <tr>\n",
              "            <td>Turkey</td>\n",
              "            <td>15.1</td>\n",
              "        </tr>\n",
              "        <tr>\n",
              "            <td>Italy</td>\n",
              "            <td>15.1</td>\n",
              "        </tr>\n",
              "        <tr>\n",
              "            <td>Italy</td>\n",
              "            <td>15.13</td>\n",
              "        </tr>\n",
              "        <tr>\n",
              "            <td>Italy</td>\n",
              "            <td>15.15</td>\n",
              "        </tr>\n",
              "        <tr>\n",
              "            <td>Albania</td>\n",
              "            <td>15.18</td>\n",
              "        </tr>\n",
              "        <tr>\n",
              "            <td>Portugal</td>\n",
              "            <td>15.52</td>\n",
              "        </tr>\n",
              "        <tr>\n",
              "            <td>Spain</td>\n",
              "            <td>15.61</td>\n",
              "        </tr>\n",
              "        <tr>\n",
              "            <td>Spain</td>\n",
              "            <td>15.78</td>\n",
              "        </tr>\n",
              "        <tr>\n",
              "            <td>Greece</td>\n",
              "            <td>16.0</td>\n",
              "        </tr>\n",
              "        <tr>\n",
              "            <td>Spain</td>\n",
              "            <td>16.02</td>\n",
              "        </tr>\n",
              "        <tr>\n",
              "            <td>Spain</td>\n",
              "            <td>16.33</td>\n",
              "        </tr>\n",
              "        <tr>\n",
              "            <td>Italy</td>\n",
              "            <td>16.54</td>\n",
              "        </tr>\n",
              "        <tr>\n",
              "            <td>Italy</td>\n",
              "            <td>16.6</td>\n",
              "        </tr>\n",
              "        <tr>\n",
              "            <td>Greece</td>\n",
              "            <td>16.9</td>\n",
              "        </tr>\n",
              "        <tr>\n",
              "            <td>Spain</td>\n",
              "            <td>17.09</td>\n",
              "        </tr>\n",
              "        <tr>\n",
              "            <td>Spain</td>\n",
              "            <td>17.19</td>\n",
              "        </tr>\n",
              "        <tr>\n",
              "            <td>Greece</td>\n",
              "            <td>17.3</td>\n",
              "        </tr>\n",
              "        <tr>\n",
              "            <td>Spain</td>\n",
              "            <td>17.32</td>\n",
              "        </tr>\n",
              "        <tr>\n",
              "            <td>Spain</td>\n",
              "            <td>17.38</td>\n",
              "        </tr>\n",
              "        <tr>\n",
              "            <td>Greece</td>\n",
              "            <td>17.41</td>\n",
              "        </tr>\n",
              "        <tr>\n",
              "            <td>Italy</td>\n",
              "            <td>17.9</td>\n",
              "        </tr>\n",
              "        <tr>\n",
              "            <td>Turkey</td>\n",
              "            <td>18.67</td>\n",
              "        </tr>\n",
              "    </tbody>\n",
              "</table>"
            ],
            "text/plain": [
              "[('Lithuania', 6.05),\n",
              " ('Poland', 6.07),\n",
              " ('Belarus', 6.07),\n",
              " ('Belarus', 6.25),\n",
              " ('Sweden', 6.26),\n",
              " ('Ukraine', 6.28),\n",
              " ('United Kingdom', 6.4),\n",
              " ('Belarus', 6.42),\n",
              " ('Italy', 6.65),\n",
              " ('Ukraine', 6.67),\n",
              " ('Switzerland', 6.68),\n",
              " ('Poland', 6.68),\n",
              " ('Germany', 6.68),\n",
              " ('France', 6.68),\n",
              " ('Switzerland', 6.68),\n",
              " ('Belarus', 6.73),\n",
              " ('Ukraine', 6.76),\n",
              " ('Austria', 6.79),\n",
              " ('Ukraine', 6.88),\n",
              " ('Austria', 6.91),\n",
              " ('Romania', 6.97),\n",
              " ('Ukraine', 6.98),\n",
              " ('Lithuania', 7.0),\n",
              " ('Ukraine', 7.04),\n",
              " ('Ukraine', 7.06),\n",
              " ('Ukraine', 7.12),\n",
              " ('Poland', 7.14),\n",
              " ('Poland', 7.17),\n",
              " ('Ukraine', 7.19),\n",
              " ('Poland', 7.2),\n",
              " ('Poland', 7.29),\n",
              " ('Slovakia', 7.31),\n",
              " ('Sweden', 7.33),\n",
              " ('Germany', 7.4),\n",
              " ('United Kingdom', 7.43),\n",
              " ('Ukraine', 7.43),\n",
              " ('Romania', 7.51),\n",
              " ('Denmark', 7.52),\n",
              " ('Germany', 7.57),\n",
              " ('Poland', 7.66),\n",
              " ('Czech Republic', 7.66),\n",
              " ('Poland', 7.73),\n",
              " ('Denmark', 7.73),\n",
              " ('Czech Republic', 7.86),\n",
              " ('Austria', 7.86),\n",
              " ('Germany', 7.98),\n",
              " ('United Kingdom', 8.0),\n",
              " ('Germany', 8.05),\n",
              " ('Czech Republic', 8.05),\n",
              " ('Turkey', 8.05),\n",
              " ('Germany', 8.07),\n",
              " ('United Kingdom', 8.1),\n",
              " ('Germany', 8.14),\n",
              " ('Moldova', 8.23),\n",
              " ('Romania', 8.23),\n",
              " ('Germany', 8.26),\n",
              " ('Bulgaria', 8.27),\n",
              " ('Poland', 8.31),\n",
              " ('United Kingdom', 8.39),\n",
              " ('Switzerland', 8.4),\n",
              " ('France', 8.4),\n",
              " ('Germany', 8.47),\n",
              " ('United Kingdom', 8.48),\n",
              " ('Ireland', 8.49),\n",
              " ('Moldova', 8.6),\n",
              " ('United Kingdom', 8.6),\n",
              " ('Ukraine', 8.61),\n",
              " ('Germany', 8.63),\n",
              " ('Netherlands', 8.63),\n",
              " ('Ukraine', 8.64),\n",
              " ('Turkey', 8.67),\n",
              " ('France', 8.69),\n",
              " ('Ukraine', 8.7),\n",
              " ('Netherlands', 8.71),\n",
              " ('Germany', 8.72),\n",
              " ('Germany', 8.78),\n",
              " ('United Kingdom', 8.81),\n",
              " ('France', 8.82),\n",
              " ('Romania', 8.87),\n",
              " ('Hungary', 8.87),\n",
              " ('Germany', 8.88),\n",
              " ('France', 8.88),\n",
              " ('Turkey', 8.89),\n",
              " ('Netherlands', 8.93),\n",
              " ('Italy', 9.12),\n",
              " ('United Kingdom', 9.15),\n",
              " ('United Kingdom', 9.25),\n",
              " ('Slovenia', 9.27),\n",
              " ('Croatia', 9.27),\n",
              " ('Romania', 9.32),\n",
              " ('Serbia', 9.36),\n",
              " ('Macedonia', 9.36),\n",
              " ('France', 9.4),\n",
              " ('Ireland', 9.41),\n",
              " ('Hungary', 9.55),\n",
              " ('Andorra', 9.6),\n",
              " ('Bosnia and Herzegovina', 9.6),\n",
              " ('Slovakia', 9.65),\n",
              " ('Belgium', 9.65),\n",
              " ('Hungary', 9.65),\n",
              " ('France', 9.65),\n",
              " ('United Kingdom', 9.73),\n",
              " ('Romania', 9.78),\n",
              " ('Serbia', 9.85),\n",
              " ('Turkey', 9.86),\n",
              " ('France', 9.96),\n",
              " ('United Kingdom', 9.97),\n",
              " ('Montenegro', 9.99),\n",
              " ('Ireland', 10.0),\n",
              " ('Ukraine', 10.02),\n",
              " ('United Kingdom', 10.14),\n",
              " ('France', 10.17),\n",
              " ('France', 10.25),\n",
              " ('Turkey', 10.28),\n",
              " ('France', 10.32),\n",
              " ('Serbia', 10.34),\n",
              " ('Hungary', 10.34),\n",
              " ('Turkey', 10.41),\n",
              " ('Spain', 10.45),\n",
              " ('Romania', 10.51),\n",
              " ('Bulgaria', 10.51),\n",
              " ('Romania', 10.59),\n",
              " ('France', 10.59),\n",
              " ('Bulgaria', 10.59),\n",
              " ('Turkey', 10.64),\n",
              " ('Spain', 10.85),\n",
              " ('Turkey', 10.9),\n",
              " ('Bulgaria', 10.9),\n",
              " ('France', 10.95),\n",
              " ('France', 10.98),\n",
              " ('France', 11.02),\n",
              " ('Turkey', 11.11),\n",
              " ('France', 11.11),\n",
              " ('Turkey', 11.16),\n",
              " ('Spain', 11.19),\n",
              " ('Turkey', 11.21),\n",
              " ('Italy', 11.21),\n",
              " ('Romania', 11.24),\n",
              " ('Spain', 11.41),\n",
              " ('Spain', 11.63),\n",
              " ('Italy', 11.69),\n",
              " ('Italy', 11.7),\n",
              " ('France', 11.87),\n",
              " ('Turkey', 11.88),\n",
              " ('Turkey', 11.92),\n",
              " ('Bulgaria', 11.93),\n",
              " ('Turkey', 12.05),\n",
              " ('Croatia', 12.46),\n",
              " ('Turkey', 12.48),\n",
              " ('Spain', 12.62),\n",
              " ('Spain', 12.85),\n",
              " ('Italy', 12.94),\n",
              " ('Turkey', 13.02),\n",
              " ('Turkey', 13.2),\n",
              " ('Spain', 13.4),\n",
              " ('Portugal', 13.42),\n",
              " ('Turkey', 13.46),\n",
              " ('Italy', 13.52),\n",
              " ('Italy', 13.83),\n",
              " ('Turkey', 14.13),\n",
              " ('Turkey', 14.16),\n",
              " ('Spain', 14.17),\n",
              " ('France', 14.98),\n",
              " ('Spain', 15.0),\n",
              " ('Turkey', 15.02),\n",
              " ('Italy', 15.04),\n",
              " ('Turkey', 15.1),\n",
              " ('Italy', 15.1),\n",
              " ('Italy', 15.13),\n",
              " ('Italy', 15.15),\n",
              " ('Albania', 15.18),\n",
              " ('Portugal', 15.52),\n",
              " ('Spain', 15.61),\n",
              " ('Spain', 15.78),\n",
              " ('Greece', 16.0),\n",
              " ('Spain', 16.02),\n",
              " ('Spain', 16.33),\n",
              " ('Italy', 16.54),\n",
              " ('Italy', 16.6),\n",
              " ('Greece', 16.9),\n",
              " ('Spain', 17.09),\n",
              " ('Spain', 17.19),\n",
              " ('Greece', 17.3),\n",
              " ('Spain', 17.32),\n",
              " ('Spain', 17.38),\n",
              " ('Greece', 17.41),\n",
              " ('Italy', 17.9),\n",
              " ('Turkey', 18.67)]"
            ]
          },
          "metadata": {
            "tags": []
          },
          "execution_count": 40
        }
      ]
    }
  ]
}